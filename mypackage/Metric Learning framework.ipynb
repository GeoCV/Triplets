{
 "cells": [
  {
   "cell_type": "code",
   "execution_count": 1,
   "metadata": {
    "collapsed": false
   },
   "outputs": [],
   "source": [
    "%matplotlib inline\n",
    "\n",
    "import numpy as np\n",
    "from scipy import linalg\n",
    "import matplotlib.pyplot as plt\n",
    "\n",
    "import pandas as pd\n",
    "from Utils import *\n",
    "\n",
    "from algorithms import *\n",
    "from new_utils import *"
   ]
  },
  {
   "cell_type": "markdown",
   "metadata": {
    "collapsed": false
   },
   "source": [
    "# Comparison of algorithms for ordinal embedding"
   ]
  },
  {
   "cell_type": "code",
   "execution_count": 2,
   "metadata": {
    "collapsed": false
   },
   "outputs": [],
   "source": [
    "#Create data\n",
    "dimensions= 15\n",
    "number_of_points= 100\n",
    "\n",
    "X = np.random.random((number_of_points, dimensions))\n",
    "X = center_data(X)"
   ]
  },
  {
   "cell_type": "code",
   "execution_count": 3,
   "metadata": {
    "collapsed": false
   },
   "outputs": [
    {
     "name": "stdout",
     "output_type": "stream",
     "text": [
      "{'empirical_loss': 0.0, 'log_loss': 0.4058656908507961}\n"
     ]
    }
   ],
   "source": [
    "n,d = X.shape\n",
    "pulls = 1000\n",
    "triplets, error = getTriplets(X, pulls)\n",
    "    \n",
    "print(ste_loss(X, triplets,1))"
   ]
  },
  {
   "cell_type": "code",
   "execution_count": 18,
   "metadata": {
    "collapsed": true
   },
   "outputs": [],
   "source": [
    "accuracy = 0.001"
   ]
  },
  {
   "cell_type": "markdown",
   "metadata": {},
   "source": [
    "# Algorithms"
   ]
  },
  {
   "cell_type": "code",
   "execution_count": 19,
   "metadata": {
    "collapsed": false
   },
   "outputs": [],
   "source": [
    "# from projected_gradient import *\n",
    "\n",
    "# M, loss, proj_grad_loss_arr = computeEmbedding(M0,\n",
    "#                 n,\n",
    "#                  d,\n",
    "#                  triplets,\n",
    "#                  num_random_restarts=0,\n",
    "#                  max_iter_GD=500,\n",
    "#                  max_norm=1,\n",
    "#                  epsilon=0.0001,\n",
    "#                  accuracy=accuracy, \n",
    "#                  verbose=False)\n",
    "\n"
   ]
  },
  {
   "cell_type": "code",
   "execution_count": 20,
   "metadata": {
    "collapsed": false
   },
   "outputs": [],
   "source": [
    "# from crowd_kernel import *"
   ]
  },
  {
   "cell_type": "code",
   "execution_count": 21,
   "metadata": {
    "collapsed": false
   },
   "outputs": [],
   "source": [
    "# X, emp_loss_train, projection_free_loss_arr = computeEmbedding(n,d,triplets,alpha=1,\n",
    "#                                     num_random_restarts=0,\n",
    "#                                     epsilon=0.0001,\n",
    "#                                     accuracy = accuracy,\n",
    "#                                     max_iters=100,\n",
    "#                                     verbose=False)\n"
   ]
  },
  {
   "cell_type": "code",
   "execution_count": null,
   "metadata": {
    "collapsed": false
   },
   "outputs": [],
   "source": []
  },
  {
   "cell_type": "code",
   "execution_count": null,
   "metadata": {
    "collapsed": false
   },
   "outputs": [],
   "source": [
    "acc"
   ]
  },
  {
   "cell_type": "code",
   "execution_count": 4,
   "metadata": {
    "collapsed": false
   },
   "outputs": [
    {
     "name": "stdout",
     "output_type": "stream",
     "text": [
      "{'empirical_loss': 0.483, 'log_loss': 0.7954863015055513}\n"
     ]
    },
    {
     "ename": "NameError",
     "evalue": "name 'accuracy' is not defined",
     "output_type": "error",
     "traceback": [
      "\u001b[0;31m---------------------------------------------------------------------------\u001b[0m",
      "\u001b[0;31mNameError\u001b[0m                                 Traceback (most recent call last)",
      "\u001b[0;32m<ipython-input-4-dd43f33c4a57>\u001b[0m in \u001b[0;36m<module>\u001b[0;34m()\u001b[0m\n\u001b[1;32m      9\u001b[0m                    \u001b[0;36m11\u001b[0m\u001b[0;34m,\u001b[0m\u001b[0;34m\u001b[0m\u001b[0m\n\u001b[1;32m     10\u001b[0m                    \u001b[0miters\u001b[0m\u001b[0;34m=\u001b[0m\u001b[0;36m50\u001b[0m\u001b[0;34m,\u001b[0m\u001b[0;34m\u001b[0m\u001b[0m\n\u001b[0;32m---> 11\u001b[0;31m                    \u001b[0mepsilon\u001b[0m \u001b[0;34m=\u001b[0m \u001b[0maccuracy\u001b[0m\u001b[0;34m,\u001b[0m\u001b[0;34m\u001b[0m\u001b[0m\n\u001b[0m\u001b[1;32m     12\u001b[0m                    proj=None)\n",
      "\u001b[0;31mNameError\u001b[0m: name 'accuracy' is not defined"
     ]
    }
   ],
   "source": [
    "X0 = np.random.random((n,d))\n",
    "# X0 = X\n",
    "print(ste_loss(X0, triplets, 1))\n",
    "stats = triplet_algorithms(ste_loss, \n",
    "                   triplets,\n",
    "                   X0,                       \n",
    "                   d,\n",
    "                   'full_grad', \n",
    "                   11,\n",
    "                   iters=50,\n",
    "                   epsilon = accuracy,\n",
    "                   proj=None)"
   ]
  },
  {
   "cell_type": "code",
   "execution_count": 23,
   "metadata": {
    "collapsed": false
   },
   "outputs": [
    {
     "name": "stdout",
     "output_type": "stream",
     "text": [
      "{'log_loss': 1.5184573841393774, 'empirical_loss': 0.502}\n"
     ]
    }
   ],
   "source": [
    "M0 = np.random.randn(n,n)\n",
    "# M0 = (M+M.transpose())/2\n",
    "# M0 = M - 1.0/n*dot(ones((n,n)),M)\n",
    "# print(M0)\n",
    "print(ste_loss_convex(M0, triplets, 1))\n",
    "\n"
   ]
  },
  {
   "cell_type": "code",
   "execution_count": 24,
   "metadata": {
    "collapsed": false
   },
   "outputs": [
    {
     "name": "stdout",
     "output_type": "stream",
     "text": [
      "0.502\n",
      "Accuracy reached in 10 iterations\n"
     ]
    }
   ],
   "source": [
    "stats2 = triplet_algorithms(ste_loss_convex, \n",
    "                   triplets,\n",
    "                   M0,                       \n",
    "                   d,                            \n",
    "                   'full_grad', \n",
    "                    1000,\n",
    "                   iters=100,\n",
    "                   epsilon = accuracy,\n",
    "                   proj=projected)"
   ]
  },
  {
   "cell_type": "code",
   "execution_count": 26,
   "metadata": {
    "collapsed": false
   },
   "outputs": [
    {
     "data": {
      "image/png": "[encoded data removed]",
      "text/plain": [
       "<matplotlib.figure.Figure at 0x1127ad9b0>"
      ]
     },
     "metadata": {},
     "output_type": "display_data"
    }
   ],
   "source": [
    "df = pd.DataFrame([stats2['emp'],\n",
    "                   stats['emp'],\n",
    "#                    proj_grad_loss_arr \n",
    "                  ]\n",
    "                 ).T\n",
    "df.columns = ['Proj Grad: My Implementation (constant stepsize)',\n",
    "              'Non convex gradient descent (constant stepsize)', \n",
    "#               'Proj Grad: Next Implementation (backtracking)'\n",
    "             ]\n",
    "\n",
    "ax = df.plot(figsize=(18,5), fontsize=18)\n",
    "ax.set_ylabel('0-1 loss', fontsize=22)\n",
    "ax.set_xlabel('Iterations of full gradient descent', fontsize=22)\n",
    "ax.legend(fontsize=22);"
   ]
  },
  {
   "cell_type": "code",
   "execution_count": 28,
   "metadata": {
    "collapsed": false
   },
   "outputs": [
    {
     "data": {
      "text/plain": [
       "[0.2023618221282959,\n",
       " 0.2048780918121338,\n",
       " 0.2136831283569336,\n",
       " 0.18268179893493652,\n",
       " 0.19855093955993652,\n",
       " 0.18567490577697754,\n",
       " 0.1823279857635498,\n",
       " 0.1813068389892578,\n",
       " 0.1820828914642334]"
      ]
     },
     "execution_count": 28,
     "metadata": {},
     "output_type": "execute_result"
    }
   ],
   "source": [
    "# SGD\n",
    "# SVRG\n",
    "# Franke Wolfe\n",
    "\n",
    "stats['time_per_iter']"
   ]
  },
  {
   "cell_type": "code",
   "execution_count": 14,
   "metadata": {
    "collapsed": false
   },
   "outputs": [
    {
     "data": {
      "text/html": [
       "<div>\n",
       "<table border=\"1\" class=\"dataframe\">\n",
       "  <thead>\n",
       "    <tr style=\"text-align: right;\">\n",
       "      <th></th>\n",
       "      <th>0</th>\n",
       "      <th>1</th>\n",
       "    </tr>\n",
       "  </thead>\n",
       "  <tbody>\n",
       "    <tr>\n",
       "      <th>0</th>\n",
       "      <td>0.502</td>\n",
       "      <td>0.502</td>\n",
       "    </tr>\n",
       "    <tr>\n",
       "      <th>1</th>\n",
       "      <td>0.341</td>\n",
       "      <td>0.484</td>\n",
       "    </tr>\n",
       "    <tr>\n",
       "      <th>2</th>\n",
       "      <td>0.210</td>\n",
       "      <td>0.484</td>\n",
       "    </tr>\n",
       "    <tr>\n",
       "      <th>3</th>\n",
       "      <td>0.136</td>\n",
       "      <td>0.484</td>\n",
       "    </tr>\n",
       "    <tr>\n",
       "      <th>4</th>\n",
       "      <td>0.094</td>\n",
       "      <td>0.484</td>\n",
       "    </tr>\n",
       "    <tr>\n",
       "      <th>5</th>\n",
       "      <td>0.065</td>\n",
       "      <td>0.484</td>\n",
       "    </tr>\n",
       "    <tr>\n",
       "      <th>6</th>\n",
       "      <td>0.039</td>\n",
       "      <td>0.483</td>\n",
       "    </tr>\n",
       "    <tr>\n",
       "      <th>7</th>\n",
       "      <td>0.032</td>\n",
       "      <td>0.480</td>\n",
       "    </tr>\n",
       "    <tr>\n",
       "      <th>8</th>\n",
       "      <td>0.021</td>\n",
       "      <td>0.479</td>\n",
       "    </tr>\n",
       "    <tr>\n",
       "      <th>9</th>\n",
       "      <td>0.012</td>\n",
       "      <td>0.476</td>\n",
       "    </tr>\n",
       "    <tr>\n",
       "      <th>10</th>\n",
       "      <td>0.009</td>\n",
       "      <td>0.473</td>\n",
       "    </tr>\n",
       "    <tr>\n",
       "      <th>11</th>\n",
       "      <td>0.003</td>\n",
       "      <td>0.468</td>\n",
       "    </tr>\n",
       "    <tr>\n",
       "      <th>12</th>\n",
       "      <td>0.002</td>\n",
       "      <td>0.459</td>\n",
       "    </tr>\n",
       "    <tr>\n",
       "      <th>13</th>\n",
       "      <td>0.001</td>\n",
       "      <td>0.447</td>\n",
       "    </tr>\n",
       "    <tr>\n",
       "      <th>14</th>\n",
       "      <td>0.001</td>\n",
       "      <td>0.426</td>\n",
       "    </tr>\n",
       "    <tr>\n",
       "      <th>15</th>\n",
       "      <td>0.001</td>\n",
       "      <td>0.400</td>\n",
       "    </tr>\n",
       "    <tr>\n",
       "      <th>16</th>\n",
       "      <td>0.001</td>\n",
       "      <td>0.347</td>\n",
       "    </tr>\n",
       "    <tr>\n",
       "      <th>17</th>\n",
       "      <td>0.001</td>\n",
       "      <td>0.306</td>\n",
       "    </tr>\n",
       "    <tr>\n",
       "      <th>18</th>\n",
       "      <td>0.000</td>\n",
       "      <td>0.235</td>\n",
       "    </tr>\n",
       "    <tr>\n",
       "      <th>19</th>\n",
       "      <td>NaN</td>\n",
       "      <td>0.160</td>\n",
       "    </tr>\n",
       "    <tr>\n",
       "      <th>20</th>\n",
       "      <td>NaN</td>\n",
       "      <td>0.095</td>\n",
       "    </tr>\n",
       "    <tr>\n",
       "      <th>21</th>\n",
       "      <td>NaN</td>\n",
       "      <td>0.042</td>\n",
       "    </tr>\n",
       "    <tr>\n",
       "      <th>22</th>\n",
       "      <td>NaN</td>\n",
       "      <td>0.020</td>\n",
       "    </tr>\n",
       "    <tr>\n",
       "      <th>23</th>\n",
       "      <td>NaN</td>\n",
       "      <td>0.001</td>\n",
       "    </tr>\n",
       "    <tr>\n",
       "      <th>24</th>\n",
       "      <td>NaN</td>\n",
       "      <td>0.001</td>\n",
       "    </tr>\n",
       "  </tbody>\n",
       "</table>\n",
       "</div>"
      ],
      "text/plain": [
       "        0      1\n",
       "0   0.502  0.502\n",
       "1   0.341  0.484\n",
       "2   0.210  0.484\n",
       "3   0.136  0.484\n",
       "4   0.094  0.484\n",
       "5   0.065  0.484\n",
       "6   0.039  0.483\n",
       "7   0.032  0.480\n",
       "8   0.021  0.479\n",
       "9   0.012  0.476\n",
       "10  0.009  0.473\n",
       "11  0.003  0.468\n",
       "12  0.002  0.459\n",
       "13  0.001  0.447\n",
       "14  0.001  0.426\n",
       "15  0.001  0.400\n",
       "16  0.001  0.347\n",
       "17  0.001  0.306\n",
       "18  0.000  0.235\n",
       "19    NaN  0.160\n",
       "20    NaN  0.095\n",
       "21    NaN  0.042\n",
       "22    NaN  0.020\n",
       "23    NaN  0.001\n",
       "24    NaN  0.001"
      ]
     },
     "execution_count": 14,
     "metadata": {},
     "output_type": "execute_result"
    }
   ],
   "source": [
    "pd.DataFrame([stats2['emp'], proj_grad_loss_arr]).T"
   ]
  }
 ],
 "metadata": {
  "kernelspec": {
   "display_name": "Python 3",
   "language": "python",
   "name": "python3"
  },
  "language_info": {
   "codemirror_mode": {
    "name": "ipython",
    "version": 3
   },
   "file_extension": ".py",
   "mimetype": "text/x-python",
   "name": "python",
   "nbconvert_exporter": "python",
   "pygments_lexer": "ipython3",
   "version": "3.5.1"
  }
 },
 "nbformat": 4,
 "nbformat_minor": 0
}
