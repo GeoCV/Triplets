{
 "cells": [
  {
   "cell_type": "code",
   "execution_count": 3,
   "metadata": {
    "collapsed": false
   },
   "outputs": [],
   "source": [
    "%matplotlib inline\n",
    "\n",
    "import numpy as np\n",
    "from scipy import linalg\n",
    "import matplotlib.pyplot as plt\n",
    "\n",
    "import pandas as pd\n",
    "from Utils import *\n",
    "\n",
    "from algorithms import *\n",
    "from new_utils import *"
   ]
  },
  {
   "cell_type": "markdown",
   "metadata": {
    "collapsed": false
   },
   "source": [
    "# Comparison of algorithms for ordinal embedding"
   ]
  },
  {
   "cell_type": "code",
   "execution_count": 11,
   "metadata": {
    "collapsed": false
   },
   "outputs": [],
   "source": [
    "#Create data|\n",
    "dimensions= 3\n",
    "number_of_points= 30\n",
    "\n",
    "X = np.random.random((number_of_points, dimensions))\n",
    "X = center_data(X)"
   ]
  },
  {
   "cell_type": "code",
   "execution_count": 27,
   "metadata": {
    "collapsed": false
   },
   "outputs": [
    {
     "name": "stdout",
     "output_type": "stream",
     "text": [
      "Dimensions:3 \n",
      "Number of points:30 \n",
      "Pulls:6120\n"
     ]
    }
   ],
   "source": [
    "n,d = X.shape\n",
    "pulls = 20*int(number_of_points*dimensions*np.log(number_of_points))\n",
    "print('Dimensions:{} \\nNumber of points:{} \\nPulls:{}'.format(dimensions,number_of_points, pulls))\n",
    "# NOISE RUINS EVERYTHING, talk to blake about how to measure acc in this case\n",
    "triplets, error = getTriplets(X, pulls, noise=False) \n",
    "    \n",
    "# print(ste_loss(X, triplets,1))"
   ]
  },
  {
   "cell_type": "code",
   "execution_count": null,
   "metadata": {
    "collapsed": true
   },
   "outputs": [],
   "source": []
  },
  {
   "cell_type": "markdown",
   "metadata": {},
   "source": [
    "# Algorithms"
   ]
  },
  {
   "cell_type": "code",
   "execution_count": null,
   "metadata": {
    "collapsed": false
   },
   "outputs": [],
   "source": [
    "# from projected_gradient import *\n",
    "\n",
    "# M, loss, proj_grad_loss_arr = computeEmbedding(M0,\n",
    "#                 n,\n",
    "#                  d,\n",
    "#                  triplets,\n",
    "#                  num_random_restarts=0,\n",
    "#                  max_iter_GD=500,\n",
    "#                  max_norm=1,\n",
    "#                  epsilon=0.0001,\n",
    "#                  accuracy=accuracy, \n",
    "#                  verbose=False)\n",
    "\n",
    "# from crowd_kernel import *\n",
    "# X, emp_loss_train, projection_free_loss_arr = computeEmbedding(n,d,triplets,alpha=1,\n",
    "#                                     num_random_restarts=0,\n",
    "#                                     epsilon=0.0001,\n",
    "#                                     accuracy = accuracy,\n",
    "#                                     max_iters=100,\n",
    "#                                     verbose=False)\n"
   ]
  },
  {
   "cell_type": "code",
   "execution_count": null,
   "metadata": {
    "collapsed": false
   },
   "outputs": [],
   "source": []
  },
  {
   "cell_type": "code",
   "execution_count": 13,
   "metadata": {
    "collapsed": false
   },
   "outputs": [
    {
     "data": {
      "text/plain": [
       "array([ 0.005  ,  0.02875,  0.0525 ,  0.07625,  0.1    ])"
      ]
     },
     "execution_count": 13,
     "metadata": {},
     "output_type": "execute_result"
    }
   ],
   "source": [
    "epsilons = np.linspace(0.005, 0.1,5)\n",
    "epsilons"
   ]
  },
  {
   "cell_type": "code",
   "execution_count": 30,
   "metadata": {
    "collapsed": false
   },
   "outputs": [
    {
     "name": "stdout",
     "output_type": "stream",
     "text": [
      "0 LOG ERROR 0.6166866633001885 Emp error 0.3503267973856209\n",
      "1 LOG ERROR 0.6943461246015905 Emp error 0.3397058823529412\n",
      "2 LOG ERROR 1.5368183753309221 Emp error 0.3720588235294118\n",
      "3 LOG ERROR 12.253584807652675 Emp error 0.4091503267973856\n",
      "Step size was too big, halving it. Iteration #:  4\n",
      "4 LOG ERROR 19.65691624949381 Emp error 0.3633986928104575\n",
      "Step size was too big, halving it. Iteration #:  5\n",
      "5 LOG ERROR 1.0104078476913703 Emp error 0.18480392156862746\n",
      "6 LOG ERROR 0.5387578971293439 Emp error 0.13480392156862744\n",
      "7 LOG ERROR 0.4373370728897131 Emp error 0.12565359477124183\n",
      "8 LOG ERROR 0.3853408517521151 Emp error 0.11274509803921569\n",
      "9 LOG ERROR 0.3482375679232195 Emp error 0.10686274509803921\n",
      "10 LOG ERROR 0.3146051128868386 Emp error 0.10196078431372549\n",
      "11 LOG ERROR 0.2782845777215761 Emp error 0.09395424836601307\n",
      "Accuracy reached in 11 iterations\n",
      "Exiting\n"
     ]
    }
   ],
   "source": [
    "# Non Convex SGD\n",
    "exp = 4\n",
    "X0 = np.random.random((n,d))\n",
    "stats_non_convex_single_exp = triplet_algorithms(ste_loss, \n",
    "                           triplets,\n",
    "                           X0,                       \n",
    "                           d,\n",
    "                           'full_grad', \n",
    "                           50,\n",
    "                           iters=5000,\n",
    "                           epsilon = epsilons[exp],\n",
    "                           proj=None,\n",
    "                           debug=True\n",
    "                          )"
   ]
  },
  {
   "cell_type": "code",
   "execution_count": 31,
   "metadata": {
    "collapsed": false
   },
   "outputs": [
    {
     "name": "stdout",
     "output_type": "stream",
     "text": [
      "0 LOG ERROR 0.8417277463139345 Emp error 0.4571895424836601\n",
      "1 LOG ERROR 0.7842213403895283 Emp error 0.4338235294117647\n",
      "2 LOG ERROR 0.7332968807847291 Emp error 0.4106209150326797\n",
      "3 LOG ERROR 0.6874122633245447 Emp error 0.3815359477124183\n",
      "4 LOG ERROR 0.645589799892834 Emp error 0.35081699346405226\n",
      "5 LOG ERROR 0.607271095291276 Emp error 0.3235294117647059\n",
      "6 LOG ERROR 0.5721885451518046 Emp error 0.29215686274509806\n",
      "7 LOG ERROR 0.5402351703103008 Emp error 0.263562091503268\n",
      "8 LOG ERROR 0.5113414553792363 Emp error 0.23398692810457516\n",
      "9 LOG ERROR 0.48538598590870097 Emp error 0.21601307189542485\n",
      "10 LOG ERROR 0.4621637063821772 Emp error 0.1968954248366013\n",
      "11 LOG ERROR 0.44140691043464286 Emp error 0.1769607843137255\n",
      "12 LOG ERROR 0.42282622552662247 Emp error 0.15784313725490196\n",
      "13 LOG ERROR 0.4061428703105191 Emp error 0.14166666666666666\n",
      "14 LOG ERROR 0.39110461837762256 Emp error 0.12777777777777777\n",
      "15 LOG ERROR 0.37749070694590203 Emp error 0.11568627450980393\n",
      "16 LOG ERROR 0.36511185803852564 Emp error 0.10964052287581699\n",
      "17 LOG ERROR 0.3538084291941959 Emp error 0.10261437908496732\n",
      "18 LOG ERROR 0.34344750216627057 Emp error 0.09297385620915033\n",
      "Accuracy reached in 18 iterations\n",
      "Exiting\n"
     ]
    }
   ],
   "source": [
    "# CONVEX STE FULL GRAD Single experiment\n",
    "M0 = np.random.randn(n,n)\n",
    "stats_convex_single_exp = []\n",
    "stats2 = triplet_algorithms(ste_loss_convex, \n",
    "                       triplets,\n",
    "                       M0,                       \n",
    "                       d,                            \n",
    "                       'full_grad', \n",
    "                        50,\n",
    "                       iters=5000,\n",
    "                       epsilon =epsilons[exp],\n",
    "                       proj=projected,\n",
    "                       debug= True)\n",
    "    \n"
   ]
  },
  {
   "cell_type": "code",
   "execution_count": null,
   "metadata": {
    "collapsed": false
   },
   "outputs": [],
   "source": [
    "# FUll Experimental setup\n",
    "stats_non_convex = []\n",
    "\n",
    "for epsilon in epsilons:\n",
    "    print('Epsilon', epsilon)\n",
    "    X0 = np.random.random((n,d))\n",
    "    stats1= triplet_algorithms(ste_loss, \n",
    "                       triplets,\n",
    "                       X0,                       \n",
    "                       d,\n",
    "                       'full_grad', \n",
    "                       20,\n",
    "                       iters=1000,\n",
    "                       epsilon = epsilon,\n",
    "                       proj=None,\n",
    "                       debug=False)\n",
    "    \n",
    "    stats_non_convex.append(stats1)\n",
    "    print()\n",
    "    \n"
   ]
  },
  {
   "cell_type": "code",
   "execution_count": null,
   "metadata": {
    "collapsed": false
   },
   "outputs": [],
   "source": [
    "# Experiment number i.e which level of accuracy \n",
    "exp = 0\n",
    "\n",
    "df = pd.DataFrame([\n",
    "#         stats_convex[3]['emp'],\n",
    "                   stats_non_convex[exp]['emp'],\n",
    "#                    stats3['emp'],\n",
    "#                     list(np.array(stats4['emp'])[epoch_inds])\n",
    "                  ]).T\n",
    "\n",
    "df.columns = [\n",
    "#     'Proj Grad: Full GD (constant stepsize, shrink each epoch)',\n",
    "              'Non convex: Full GD (constant stepsize, shrink each epoch)', \n",
    "#               'Proj Grad: SGD (constant stepsize)',\n",
    "#               'Non Convex: SGD (constant stepsize, shrink each epoch)',              \n",
    "             ]\n",
    "\n",
    "ax = df.plot(figsize=(18,5), fontsize=18)\n",
    "ax.set_ylabel('0-1 loss', fontsize=22)\n",
    "ax.set_xlabel('Epochs', fontsize=22)\n",
    "ax.set_title('Epsilon= {}'.format(epsilons[exp]), fontsize=22)\n",
    "ax.legend(fontsize=18);\n",
    "\n",
    "df = []\n",
    "for i in stats_non_convex:\n",
    "    df.append(sum(i['time_per_iter']))\n",
    "    \n",
    "df = pd.DataFrame(df, columns=['Non convex FULL GD'], index=np.linspace(0.005, 0.1,5))\n",
    "ax = df.plot(figsize=(18,8), fontsize=18, kind='bar')\n",
    "ax.set_ylabel('Time(sec)', fontsize=22)\n",
    "ax.set_xlabel('Error', fontsize=22)\n",
    "ax.legend(fontsize=22, loc='upper right');        "
   ]
  },
  {
   "cell_type": "code",
   "execution_count": null,
   "metadata": {
    "collapsed": false
   },
   "outputs": [],
   "source": [
    "\n",
    "# Non Convex SGD\n",
    "exp = 2\n",
    "stats4= triplet_algorithms(ste_loss, \n",
    "                           triplets,\n",
    "                           X0,                       \n",
    "                           d,\n",
    "                           'sgd', \n",
    "                           0.2,\n",
    "                           iters=5000,\n",
    "                           epsilon = epsilons[exp],\n",
    "                           proj=None,\n",
    "                           debug=True\n",
    "                          )"
   ]
  },
  {
   "cell_type": "code",
   "execution_count": null,
   "metadata": {
    "collapsed": false
   },
   "outputs": [],
   "source": []
  },
  {
   "cell_type": "code",
   "execution_count": null,
   "metadata": {
    "collapsed": false
   },
   "outputs": [],
   "source": [
    "# CONVEX STE FULL GRAD Full exp set up\n",
    "M0 = np.random.randn(n,n)\n",
    "stats_convex = []\n",
    "for epsilon in epsilons:\n",
    "    stats2 = triplet_algorithms(ste_loss_convex, \n",
    "                       triplets,\n",
    "                       M0,                       \n",
    "                       d,                            \n",
    "                       'full_grad', \n",
    "                        600,\n",
    "                       iters=5000,\n",
    "                       epsilon =epsilon,\n",
    "                       proj=projected,\n",
    "                       debug= False)\n",
    "    \n",
    "    stats_convex.append(stats2)"
   ]
  },
  {
   "cell_type": "code",
   "execution_count": null,
   "metadata": {
    "collapsed": true
   },
   "outputs": [],
   "source": [
    "df = []\n",
    "for i in stats_convex:\n",
    "    df.append(sum(i['time_per_iter']))\n",
    "    \n",
    "df = pd.DataFrame(df, columns=['Non convex'], index=np.linspace(0.005, 0.1,5))\n",
    "ax = df.plot(figsize=(18,8), fontsize=18, kind='bar')\n",
    "ax.set_ylabel('Time(sec)', fontsize=22)\n",
    "ax.set_xlabel('Error', fontsize=22)\n",
    "ax.legend(fontsize=22, loc='upper right');        "
   ]
  },
  {
   "cell_type": "code",
   "execution_count": null,
   "metadata": {
    "collapsed": false
   },
   "outputs": [],
   "source": [
    "# stats3 = triplet_algorithms(ste_loss_convex, \n",
    "#                             triplets,\n",
    "#                             M0,                       \n",
    "#                             d,                            \n",
    "#                             'sgd', \n",
    "#                             3,\n",
    "#                             iters=5000,\n",
    "#                             epsilon = 0.07625,\n",
    "#                             proj=projected)"
   ]
  },
  {
   "cell_type": "code",
   "execution_count": null,
   "metadata": {
    "collapsed": false
   },
   "outputs": [],
   "source": [
    "# stats2['emp']"
   ]
  },
  {
   "cell_type": "code",
   "execution_count": null,
   "metadata": {
    "collapsed": false
   },
   "outputs": [],
   "source": [
    "epoch_inds = np.linspace(0, len(stats4['emp'])-1, stats4['epoch_count'], dtype=int)\n",
    "\n",
    "df = pd.DataFrame([stats_convex[3]['emp'],\n",
    "                   stats_non_convex[3]['emp'],\n",
    "#                    stats3['emp'],\n",
    "                    list(np.array(stats4['emp'])[epoch_inds])\n",
    "                  ]).T\n",
    "df.columns = ['Proj Grad: Full GD (constant stepsize, shrink each epoch)',\n",
    "              'Non convex: Full GD (constant stepsize, shrink each epoch)', \n",
    "#               'Proj Grad: SGD (constant stepsize)',\n",
    "              'Non Convex: SGD (constant stepsize, shrink each epoch)',              \n",
    "             ]\n",
    "\n",
    "ax = df.plot(figsize=(18,5), fontsize=18)\n",
    "ax.set_ylabel('0-1 loss', fontsize=22)\n",
    "ax.set_xlabel('Epochs', fontsize=22)\n",
    "ax.set_title('Epsilon= {}'.format(0.07625), fontsize=22)\n",
    "ax.legend(fontsize=18);"
   ]
  },
  {
   "cell_type": "code",
   "execution_count": null,
   "metadata": {
    "collapsed": false
   },
   "outputs": [],
   "source": [
    "df = pd.DataFrame([\n",
    "#                 stats2['emp'],\n",
    "#                 stats1['emp'],\n",
    "                   stats3['emp'],\n",
    "                   stats4['emp'],                   \n",
    "                  ]\n",
    "                 ).T\n",
    "df.columns = [\n",
    "#     'Proj Grad: Full GD (constant stepsize)',\n",
    "#               'Non convex full gradient descent (constant stepsize)', \n",
    "              'Proj Grad: SGD (constant stepsize)',\n",
    "              'Non Convex: SGD (constant stepsize)',              \n",
    "             ]\n",
    "\n",
    "ax = df.plot(figsize=(18,5), fontsize=18)\n",
    "ax.set_ylabel('0-1 loss', fontsize=22)\n",
    "ax.set_xlabel('Iterations of full gradient descent', fontsize=22)\n",
    "ax.legend(fontsize=22);"
   ]
  },
  {
   "cell_type": "code",
   "execution_count": null,
   "metadata": {
    "collapsed": false
   },
   "outputs": [],
   "source": [
    "sum(stats1['time_per_iter'])"
   ]
  },
  {
   "cell_type": "code",
   "execution_count": null,
   "metadata": {
    "collapsed": false
   },
   "outputs": [],
   "source": [
    "sum(stats2['time_per_iter'])"
   ]
  },
  {
   "cell_type": "code",
   "execution_count": null,
   "metadata": {
    "collapsed": false
   },
   "outputs": [],
   "source": [
    "df = []\n",
    "for i,j in zip(stats_non_convex,stats_convex):\n",
    "    df.append([sum(i['time_per_iter']), len(j['emp'])*stats_convex[0]['avg_time_per_iter']])\n",
    "    \n",
    "df = pd.DataFrame(df, columns=['Non convex', 'Convex- with projection'], index=np.linspace(0.005, 0.1,5))\n",
    "ax = df.plot(figsize=(18,8), fontsize=18, kind='bar')\n",
    "ax.set_ylabel('Time(sec)', fontsize=22)\n",
    "ax.set_xlabel('Error', fontsize=22)\n",
    "ax.legend(fontsize=22, loc='upper right');    "
   ]
  },
  {
   "cell_type": "code",
   "execution_count": null,
   "metadata": {
    "collapsed": false
   },
   "outputs": [],
   "source": [
    "# for i in range(5):\n",
    "#     print(len(stats_convex[i]['emp']))\n",
    "#     print(stats_convex[i]['time_per_iter'])\n",
    "#     print()"
   ]
  },
  {
   "cell_type": "code",
   "execution_count": null,
   "metadata": {
    "collapsed": false
   },
   "outputs": [],
   "source": [
    "epsilons"
   ]
  },
  {
   "cell_type": "code",
   "execution_count": null,
   "metadata": {
    "collapsed": true
   },
   "outputs": [],
   "source": []
  }
 ],
 "metadata": {
  "anaconda-cloud": {},
  "kernelspec": {
   "display_name": "Python [default]",
   "language": "python",
   "name": "python3"
  },
  "language_info": {
   "codemirror_mode": {
    "name": "ipython",
    "version": 3
   },
   "file_extension": ".py",
   "mimetype": "text/x-python",
   "name": "python",
   "nbconvert_exporter": "python",
   "pygments_lexer": "ipython3",
   "version": "3.5.2"
  }
 },
 "nbformat": 4,
 "nbformat_minor": 0
}
