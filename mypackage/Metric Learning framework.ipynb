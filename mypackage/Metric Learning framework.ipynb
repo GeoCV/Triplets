{
 "cells": [
  {
   "cell_type": "code",
   "execution_count": 1,
   "metadata": {
    "collapsed": false
   },
   "outputs": [],
   "source": [
    "%matplotlib inline\n",
    "\n",
    "import numpy as np\n",
    "from scipy import linalg\n",
    "import matplotlib.pyplot as plt\n",
    "\n",
    "import pandas as pd\n",
    "from Utils import *\n",
    "\n",
    "from algorithms import *\n",
    "from new_utils import *"
   ]
  },
  {
   "cell_type": "markdown",
   "metadata": {
    "collapsed": false
   },
   "source": [
    "# Comparison of algorithms for ordinal embedding"
   ]
  },
  {
   "cell_type": "code",
   "execution_count": 2,
   "metadata": {
    "collapsed": false
   },
   "outputs": [],
   "source": [
    "#Create data\n",
    "dimensions= 15\n",
    "number_of_points= 100\n",
    "\n",
    "X = np.random.random((number_of_points, dimensions))\n",
    "X = center_data(X)"
   ]
  },
  {
   "cell_type": "code",
   "execution_count": 3,
   "metadata": {
    "collapsed": false
   },
   "outputs": [],
   "source": [
    "n,d = X.shape\n",
    "pulls = 1000\n",
    "triplets, error = getTriplets(X, pulls)\n",
    "    \n",
    "# print(ste_loss(X, triplets,1))"
   ]
  },
  {
   "cell_type": "code",
   "execution_count": null,
   "metadata": {
    "collapsed": true
   },
   "outputs": [],
   "source": []
  },
  {
   "cell_type": "markdown",
   "metadata": {},
   "source": [
    "# Algorithms"
   ]
  },
  {
   "cell_type": "code",
   "execution_count": null,
   "metadata": {
    "collapsed": false
   },
   "outputs": [],
   "source": [
    "# from projected_gradient import *\n",
    "\n",
    "# M, loss, proj_grad_loss_arr = computeEmbedding(M0,\n",
    "#                 n,\n",
    "#                  d,\n",
    "#                  triplets,\n",
    "#                  num_random_restarts=0,\n",
    "#                  max_iter_GD=500,\n",
    "#                  max_norm=1,\n",
    "#                  epsilon=0.0001,\n",
    "#                  accuracy=accuracy, \n",
    "#                  verbose=False)\n",
    "\n"
   ]
  },
  {
   "cell_type": "code",
   "execution_count": null,
   "metadata": {
    "collapsed": false
   },
   "outputs": [],
   "source": [
    "# from crowd_kernel import *"
   ]
  },
  {
   "cell_type": "code",
   "execution_count": null,
   "metadata": {
    "collapsed": false
   },
   "outputs": [],
   "source": [
    "# X, emp_loss_train, projection_free_loss_arr = computeEmbedding(n,d,triplets,alpha=1,\n",
    "#                                     num_random_restarts=0,\n",
    "#                                     epsilon=0.0001,\n",
    "#                                     accuracy = accuracy,\n",
    "#                                     max_iters=100,\n",
    "#                                     verbose=False)\n"
   ]
  },
  {
   "cell_type": "code",
   "execution_count": null,
   "metadata": {
    "collapsed": false
   },
   "outputs": [],
   "source": [
    "X0 = np.random.random((n,d))\n",
    "# X0 = X\n",
    "stats1= triplet_algorithms(ste_loss, \n",
    "                   triplets,\n",
    "                   X0,                       \n",
    "                   d,\n",
    "                   'full_grad', \n",
    "                   10,\n",
    "                   iters=100,\n",
    "                   epsilon = 0.01,\n",
    "                   proj=None,\n",
    "                   debug=False)"
   ]
  },
  {
   "cell_type": "code",
   "execution_count": 4,
   "metadata": {
    "collapsed": false
   },
   "outputs": [
    {
     "name": "stdout",
     "output_type": "stream",
     "text": [
      "0.484\n",
      "Shrinking alpha 0.85\n",
      "EMPIRICAL ERROR 0.8061781793586545\n",
      "0 LOG ERROR 0.8061781793586545 Emp error 0.481\n",
      "EMPIRICAL ERROR 0.904559571381662\n",
      "1 LOG ERROR 0.904559571381662 Emp error 0.489\n",
      "EMPIRICAL ERROR 0.9264665494713707\n",
      "2 LOG ERROR 0.9264665494713707 Emp error 0.487\n",
      "EMPIRICAL ERROR 0.9293460877034401\n",
      "3 LOG ERROR 0.9293460877034401 Emp error 0.491\n",
      "EMPIRICAL ERROR 0.946372378711899\n",
      "4 LOG ERROR 0.946372378711899 Emp error 0.49\n",
      "EMPIRICAL ERROR 1.0251540373803787\n",
      "5 LOG ERROR 1.0251540373803787 Emp error 0.491\n",
      "EMPIRICAL ERROR 1.0986105587398864\n",
      "6 LOG ERROR 1.0986105587398864 Emp error 0.493\n",
      "EMPIRICAL ERROR 1.1277039368617652\n",
      "7 LOG ERROR 1.1277039368617652 Emp error 0.489\n",
      "EMPIRICAL ERROR 1.2423930414152933\n",
      "8 LOG ERROR 1.2423930414152933 Emp error 0.486\n",
      "EMPIRICAL ERROR 1.247261053023625\n",
      "9 LOG ERROR 1.247261053023625 Emp error 0.485\n",
      "EMPIRICAL ERROR 1.2504246237183885\n",
      "10 LOG ERROR 1.2504246237183885 Emp error 0.485\n",
      "EMPIRICAL ERROR 1.3192368098197562\n",
      "Step size was too big, halving it. Iteration #:  11\n",
      "EMPIRICAL ERROR 1.2524714534480277\n",
      "Step size was too big, halving it. Iteration #:  11\n",
      "EMPIRICAL ERROR 1.2461997288292574\n",
      "Step size was too big, halving it. Iteration #:  11\n",
      "EMPIRICAL ERROR 1.2471033883062563\n",
      "Step size was too big, halving it. Iteration #:  11\n",
      "EMPIRICAL ERROR 1.2483533527375275\n",
      "Step size was too big, halving it. Iteration #:  11\n",
      "EMPIRICAL ERROR 1.249252785026525\n",
      "Step size was too big, halving it. Iteration #:  11\n",
      "EMPIRICAL ERROR 1.2498002912366897\n",
      "Step size was too big, halving it. Iteration #:  11\n",
      "EMPIRICAL ERROR 1.2501024790197288\n",
      "Step size was too big, halving it. Iteration #:  11\n",
      "EMPIRICAL ERROR 1.2502610277326576\n",
      "Step size was too big, halving it. Iteration #:  11\n",
      "EMPIRICAL ERROR 1.2503421924752294\n",
      "Step size was too big, halving it. Iteration #:  11\n",
      "EMPIRICAL ERROR 1.2503832495754623\n",
      "Step size was too big, halving it. Iteration #:  11\n",
      "EMPIRICAL ERROR 1.2504038969958073\n",
      "Step size was too big, halving it. Iteration #:  11\n",
      "EMPIRICAL ERROR 1.250414250442055\n",
      "Step size was too big, halving it. Iteration #:  11\n",
      "EMPIRICAL ERROR 1.250419434601198\n",
      "Step size was too big, halving it. Iteration #:  11\n",
      "EMPIRICAL ERROR 1.250422028540006\n",
      "Step size was too big, halving it. Iteration #:  11\n",
      "EMPIRICAL ERROR 1.2504233259742463\n",
      "Step size was too big, halving it. Iteration #:  11\n",
      "EMPIRICAL ERROR 1.250423974807578\n",
      "Step size was too big, halving it. Iteration #:  11\n"
     ]
    },
    {
     "ename": "KeyboardInterrupt",
     "evalue": "",
     "output_type": "error",
     "traceback": [
      "\u001b[0;31m---------------------------------------------------------------------------\u001b[0m",
      "\u001b[0;31mKeyboardInterrupt\u001b[0m                         Traceback (most recent call last)",
      "\u001b[0;32m<ipython-input-4-4166cfcaec0a>\u001b[0m in \u001b[0;36m<module>\u001b[0;34m()\u001b[0m\n\u001b[1;32m     10\u001b[0m                            \u001b[0mepsilon\u001b[0m \u001b[0;34m=\u001b[0m \u001b[0;36m0.01\u001b[0m\u001b[0;34m,\u001b[0m\u001b[0;34m\u001b[0m\u001b[0m\n\u001b[1;32m     11\u001b[0m                            \u001b[0mproj\u001b[0m\u001b[0;34m=\u001b[0m\u001b[0;32mNone\u001b[0m\u001b[0;34m,\u001b[0m\u001b[0;34m\u001b[0m\u001b[0m\n\u001b[0;32m---> 12\u001b[0;31m                            \u001b[0mdebug\u001b[0m\u001b[0;34m=\u001b[0m\u001b[0;32mTrue\u001b[0m\u001b[0;34m\u001b[0m\u001b[0m\n\u001b[0m\u001b[1;32m     13\u001b[0m                           )\n",
      "\u001b[0;32m/Users/aritrabiswas/Triplets/mypackage/algorithms.py\u001b[0m in \u001b[0;36mtriplet_algorithms\u001b[0;34m(f, S, X0, d, descent_alg, step_size_func, iters, epsilon, toler, proj, debug)\u001b[0m\n\u001b[1;32m     91\u001b[0m                     \u001b[0mX_new\u001b[0m \u001b[0;34m=\u001b[0m \u001b[0mproj\u001b[0m\u001b[0;34m(\u001b[0m\u001b[0mX_new\u001b[0m\u001b[0;34m,\u001b[0m \u001b[0md\u001b[0m\u001b[0;34m)\u001b[0m\u001b[0;34m\u001b[0m\u001b[0m\n\u001b[1;32m     92\u001b[0m \u001b[0;34m\u001b[0m\u001b[0m\n\u001b[0;32m---> 93\u001b[0;31m                 \u001b[0memp_X_new\u001b[0m \u001b[0;34m=\u001b[0m \u001b[0mf\u001b[0m\u001b[0;34m(\u001b[0m\u001b[0mX_new\u001b[0m\u001b[0;34m,\u001b[0m \u001b[0mS\u001b[0m\u001b[0;34m,\u001b[0m \u001b[0;36m1\u001b[0m\u001b[0;34m)\u001b[0m\u001b[0;34m[\u001b[0m\u001b[0;34m'empirical_loss'\u001b[0m\u001b[0;34m]\u001b[0m\u001b[0;34m\u001b[0m\u001b[0m\n\u001b[0m\u001b[1;32m     94\u001b[0m                 \u001b[0mlog_X_new\u001b[0m \u001b[0;34m=\u001b[0m \u001b[0mf\u001b[0m\u001b[0;34m(\u001b[0m\u001b[0mX_new\u001b[0m\u001b[0;34m,\u001b[0m \u001b[0mS\u001b[0m\u001b[0;34m,\u001b[0m \u001b[0;36m1\u001b[0m\u001b[0;34m)\u001b[0m\u001b[0;34m[\u001b[0m\u001b[0;34m'log_loss'\u001b[0m\u001b[0;34m]\u001b[0m\u001b[0;34m\u001b[0m\u001b[0m\n\u001b[1;32m     95\u001b[0m                 \u001b[0mprint\u001b[0m\u001b[0;34m(\u001b[0m\u001b[0;34m'EMPIRICAL ERROR'\u001b[0m\u001b[0;34m,\u001b[0m \u001b[0mlog_X_new\u001b[0m\u001b[0;34m)\u001b[0m\u001b[0;34m\u001b[0m\u001b[0m\n",
      "\u001b[0;32m/Users/aritrabiswas/Triplets/mypackage/ste.py\u001b[0m in \u001b[0;36mste_loss\u001b[0;34m(X, S, opt, descent_alg)\u001b[0m\n\u001b[1;32m     27\u001b[0m                 \u001b[0memp_loss\u001b[0m \u001b[0;34m+=\u001b[0m\u001b[0;36m1\u001b[0m\u001b[0;34m\u001b[0m\u001b[0m\n\u001b[1;32m     28\u001b[0m \u001b[0;34m\u001b[0m\u001b[0m\n\u001b[0;32m---> 29\u001b[0;31m             \u001b[0mlog_loss\u001b[0m \u001b[0;34m+=\u001b[0m \u001b[0mste_loss_triplet\u001b[0m\u001b[0;34m(\u001b[0m\u001b[0mX\u001b[0m\u001b[0;34m,\u001b[0m\u001b[0mq\u001b[0m\u001b[0;34m,\u001b[0m\u001b[0;36m1\u001b[0m\u001b[0;34m)\u001b[0m\u001b[0;34m\u001b[0m\u001b[0m\n\u001b[0m\u001b[1;32m     30\u001b[0m \u001b[0;34m\u001b[0m\u001b[0m\n\u001b[1;32m     31\u001b[0m         \u001b[0mavg_emp_loss\u001b[0m \u001b[0;34m=\u001b[0m \u001b[0memp_loss\u001b[0m\u001b[0;34m/\u001b[0m\u001b[0mlen\u001b[0m\u001b[0;34m(\u001b[0m\u001b[0mS\u001b[0m\u001b[0;34m)\u001b[0m\u001b[0;34m\u001b[0m\u001b[0m\n",
      "\u001b[0;32m/Users/aritrabiswas/Triplets/mypackage/ste.py\u001b[0m in \u001b[0;36mste_loss_triplet\u001b[0;34m(X, q, opt)\u001b[0m\n\u001b[1;32m      9\u001b[0m     \u001b[0;31m# Logistic loss of triplet score\u001b[0m\u001b[0;34m\u001b[0m\u001b[0;34m\u001b[0m\u001b[0m\n\u001b[1;32m     10\u001b[0m     \u001b[0;32mif\u001b[0m \u001b[0mopt\u001b[0m \u001b[0;34m==\u001b[0m \u001b[0;36m1\u001b[0m\u001b[0;34m:\u001b[0m\u001b[0;34m\u001b[0m\u001b[0m\n\u001b[0;32m---> 11\u001b[0;31m         \u001b[0mtriplet_score\u001b[0m \u001b[0;34m=\u001b[0m \u001b[0mscoreX\u001b[0m\u001b[0;34m(\u001b[0m\u001b[0mX\u001b[0m\u001b[0;34m,\u001b[0m \u001b[0mq\u001b[0m\u001b[0;34m,\u001b[0m \u001b[0mopt\u001b[0m\u001b[0;34m)\u001b[0m\u001b[0;34m\u001b[0m\u001b[0m\n\u001b[0m\u001b[1;32m     12\u001b[0m         \u001b[0;32mreturn\u001b[0m \u001b[0mlogistic_loss\u001b[0m\u001b[0;34m(\u001b[0m\u001b[0mtriplet_score\u001b[0m\u001b[0;34m,\u001b[0m \u001b[0mopt\u001b[0m\u001b[0;34m)\u001b[0m\u001b[0;34m\u001b[0m\u001b[0m\n\u001b[1;32m     13\u001b[0m \u001b[0;34m\u001b[0m\u001b[0m\n",
      "\u001b[0;32m/Users/aritrabiswas/Triplets/mypackage/new_utils.py\u001b[0m in \u001b[0;36mscoreX\u001b[0;34m(X, q, opt)\u001b[0m\n\u001b[1;32m     26\u001b[0m     \u001b[0;32mif\u001b[0m \u001b[0mopt\u001b[0m \u001b[0;34m==\u001b[0m \u001b[0;36m1\u001b[0m\u001b[0;34m:\u001b[0m\u001b[0;34m\u001b[0m\u001b[0m\n\u001b[1;32m     27\u001b[0m \u001b[0;34m\u001b[0m\u001b[0m\n\u001b[0;32m---> 28\u001b[0;31m         \u001b[0;32mreturn\u001b[0m \u001b[0mnorm\u001b[0m\u001b[0;34m(\u001b[0m\u001b[0mX\u001b[0m\u001b[0;34m[\u001b[0m\u001b[0mi\u001b[0m\u001b[0;34m]\u001b[0m \u001b[0;34m-\u001b[0m \u001b[0mX\u001b[0m\u001b[0;34m[\u001b[0m\u001b[0mk\u001b[0m\u001b[0;34m]\u001b[0m\u001b[0;34m)\u001b[0m\u001b[0;34m**\u001b[0m\u001b[0;36m2\u001b[0m \u001b[0;34m-\u001b[0m \u001b[0mnorm\u001b[0m\u001b[0;34m(\u001b[0m\u001b[0mX\u001b[0m\u001b[0;34m[\u001b[0m\u001b[0mj\u001b[0m\u001b[0;34m]\u001b[0m \u001b[0;34m-\u001b[0m \u001b[0mX\u001b[0m\u001b[0;34m[\u001b[0m\u001b[0mk\u001b[0m\u001b[0;34m]\u001b[0m\u001b[0;34m)\u001b[0m\u001b[0;34m**\u001b[0m\u001b[0;36m2\u001b[0m\u001b[0;34m\u001b[0m\u001b[0m\n\u001b[0m\u001b[1;32m     29\u001b[0m \u001b[0;34m\u001b[0m\u001b[0m\n\u001b[1;32m     30\u001b[0m     \u001b[0;32melif\u001b[0m \u001b[0mopt\u001b[0m \u001b[0;34m==\u001b[0m \u001b[0;36m2\u001b[0m\u001b[0;34m:\u001b[0m\u001b[0;34m\u001b[0m\u001b[0m\n",
      "\u001b[0;31mKeyboardInterrupt\u001b[0m: "
     ]
    }
   ],
   "source": [
    "X0 = np.random.random((n,d))\n",
    "# X0 = X\n",
    "stats4= triplet_algorithms(ste_loss, \n",
    "                           triplets,\n",
    "                           X0,                       \n",
    "                           d,\n",
    "                           'sgd', \n",
    "                           1,\n",
    "                           iters=500,\n",
    "                           epsilon = 0.01,\n",
    "                           proj=None,\n",
    "                           debug=True\n",
    "                          )"
   ]
  },
  {
   "cell_type": "code",
   "execution_count": null,
   "metadata": {
    "collapsed": false
   },
   "outputs": [],
   "source": [
    "M0 = np.random.randn(n,n)\n",
    "# M0 = (M+M.transpose())/2\n",
    "# M0 = M - 1.0/n*dot(ones((n,n)),M)\n",
    "# print(M0)\n",
    "\n"
   ]
  },
  {
   "cell_type": "code",
   "execution_count": null,
   "metadata": {
    "collapsed": false
   },
   "outputs": [],
   "source": [
    "stats2 = triplet_algorithms(ste_loss_convex, \n",
    "                   triplets,\n",
    "                   M0,                       \n",
    "                   d,                            \n",
    "                   'full_grad', \n",
    "                    100,\n",
    "                   iters=5000,\n",
    "                   epsilon =0.01,\n",
    "                   proj=projected)"
   ]
  },
  {
   "cell_type": "code",
   "execution_count": null,
   "metadata": {
    "collapsed": false
   },
   "outputs": [],
   "source": [
    "stats3 = triplet_algorithms(ste_loss_convex, \n",
    "                            triplets,\n",
    "                            M0,                       \n",
    "                            d,                            \n",
    "                            'sgd', \n",
    "                            3,\n",
    "                            iters=5000,\n",
    "                            epsilon = 0.01,\n",
    "                            proj=projected)"
   ]
  },
  {
   "cell_type": "code",
   "execution_count": null,
   "metadata": {
    "collapsed": false
   },
   "outputs": [],
   "source": [
    "# stats2['emp']"
   ]
  },
  {
   "cell_type": "code",
   "execution_count": null,
   "metadata": {
    "collapsed": false
   },
   "outputs": [],
   "source": [
    "df = pd.DataFrame([stats2['emp'],\n",
    "                   stats1['emp'],\n",
    "                   stats3['emp'],\n",
    "                   stats4['emp'],                   \n",
    "                  ]\n",
    "                 ).T\n",
    "df.columns = ['Proj Grad: Full GD (constant stepsize)',\n",
    "              'Non convex full gradient descent (constant stepsize)', \n",
    "              'Proj Grad: SGD (constant stepsize)',\n",
    "              'Non Convex: SGD (constant stepsize)',              \n",
    "             ]\n",
    "\n",
    "ax = df.plot(figsize=(18,5), fontsize=18)\n",
    "ax.set_ylabel('0-1 loss', fontsize=22)\n",
    "ax.set_xlabel('Iterations of full gradient descent', fontsize=22)\n",
    "ax.legend(fontsize=22);"
   ]
  },
  {
   "cell_type": "code",
   "execution_count": null,
   "metadata": {
    "collapsed": false
   },
   "outputs": [],
   "source": [
    "# SGD\n",
    "# SVRG\n",
    "# Franke Wolfe\n",
    "\n",
    "stats['time_per_iter'];"
   ]
  },
  {
   "cell_type": "code",
   "execution_count": null,
   "metadata": {
    "collapsed": false
   },
   "outputs": [],
   "source": [
    "choice = '2'"
   ]
  },
  {
   "cell_type": "code",
   "execution_count": null,
   "metadata": {
    "collapsed": false
   },
   "outputs": [],
   "source": [
    "number_of_points= 100\n",
    "\n",
    "X = random((number_of_points, dimensions))\n",
    "X = center_data(X)\n",
    "n,d = X.shape\n",
    "pulls = 1000\n",
    "triplets, error = getTriplets(X, pulls)\n",
    "\n",
    "if choice == '1':\n",
    "    X0 = random((n,d))\n",
    "    # X0 = X\n",
    "    stats = triplet_algorithms(ste_loss,\n",
    "                               triplets,\n",
    "                               X0,\n",
    "                               d,\n",
    "                               'full_grad',\n",
    "                               10,\n",
    "                               iters=500,\n",
    "                               epsilon = 0.001,\n",
    "                               proj=None)\n",
    "\n",
    "if choice == '2':\n",
    "    M0 = randn(n,n)\n",
    "    stats1 = triplet_algorithms(ste_loss_convex, \n",
    "                                triplets,\n",
    "                                M0,                       \n",
    "                                d,                            \n",
    "                                'full_grad', \n",
    "                                30,\n",
    "                                iters=5000,\n",
    "                                epsilon = 0.01,\n",
    "                                proj=projected)\n",
    "\n",
    "    print()\n",
    "\n",
    "    stats2 = triplet_algorithms(ste_loss_convex, \n",
    "                                triplets,\n",
    "                                M0,                       \n",
    "                                d,                            \n",
    "                                'sgd', \n",
    "                                3,\n",
    "                                iters=5000,\n",
    "                                epsilon = 0.01,\n",
    "                                proj=projected)\n",
    "\n",
    "\n",
    "if choice == 'all':\n",
    "    X0 = random((n,d))\n",
    "    # X0 = X\n",
    "    print(ste_loss(X0, triplets, 1))\n",
    "    stats = triplet_algorithms(ste_loss,\n",
    "                               triplets,\n",
    "                               X0,\n",
    "                               d,\n",
    "                               'full_grad',\n",
    "                               10,\n",
    "                               iters=500,\n",
    "                               epsilon = 0.001,\n",
    "                               proj=None)\n",
    "\n",
    "    print()\n",
    "\n",
    "    M0 = randn(n,n)\n",
    "    stats2 = triplet_algorithms(ste_loss_convex, \n",
    "                                triplets,\n",
    "                                M0,                       \n",
    "                                d,                            \n",
    "                                'full_grad', \n",
    "                                0,\n",
    "                                iters=500,\n",
    "                                epsilon = 0.01,\n",
    "                                proj=projected)"
   ]
  },
  {
   "cell_type": "code",
   "execution_count": null,
   "metadata": {
    "collapsed": true
   },
   "outputs": [],
   "source": [
    "sta"
   ]
  }
 ],
 "metadata": {
  "kernelspec": {
   "display_name": "Python 3",
   "language": "python",
   "name": "python3"
  },
  "language_info": {
   "codemirror_mode": {
    "name": "ipython",
    "version": 3
   },
   "file_extension": ".py",
   "mimetype": "text/x-python",
   "name": "python",
   "nbconvert_exporter": "python",
   "pygments_lexer": "ipython3",
   "version": "3.5.1"
  }
 },
 "nbformat": 4,
 "nbformat_minor": 0
}
