{
 "cells": [
  {
   "cell_type": "code",
   "execution_count": 1,
   "metadata": {
    "collapsed": false
   },
   "outputs": [],
   "source": [
    "%matplotlib inline\n",
    "\n",
    "import numpy as np\n",
    "from scipy import linalg\n",
    "import matplotlib.pyplot as plt\n",
    "\n",
    "import pandas as pd\n",
    "from Utils import *\n",
    "\n",
    "from algorithms import *\n",
    "from new_utils import *\n",
    "\n",
    "from eigenEmbed import*"
   ]
  },
  {
   "cell_type": "markdown",
   "metadata": {
    "collapsed": false
   },
   "source": [
    "# Comparison of algorithms for ordinal embedding"
   ]
  },
  {
   "cell_type": "code",
   "execution_count": 77,
   "metadata": {
    "collapsed": false
   },
   "outputs": [],
   "source": [
    "#Create data\n",
    "dimensions= 3\n",
    "number_of_points= 40\n",
    "\n",
    "X = np.random.random((number_of_points, dimensions))\n",
    "X = center_data(X)"
   ]
  },
  {
   "cell_type": "code",
   "execution_count": 78,
   "metadata": {
    "collapsed": false
   },
   "outputs": [
    {
     "name": "stdout",
     "output_type": "stream",
     "text": [
      "Dimensions:3 \n",
      "Number of points:40 \n",
      "Pulls:8840\n",
      "\n",
      "TRAIN:  7072\n",
      "TEST:  1768\n"
     ]
    }
   ],
   "source": [
    "n,d = X.shape\n",
    "# pulls =5000\n",
    "pulls = 20*int(number_of_points*dimensions*np.log(number_of_points))\n",
    "# split percentage fraction of triplets are train:\n",
    "# the rest are train\n",
    "split_percentage = 0.8\n",
    "\n",
    "# NOISE RUINS EVERYTHING, talk to blake about how to measure acc in this case\n",
    "# winner, loser, head\n",
    "tot_triplets, error = getTriplets(X, int(pulls), noise=True) \n",
    "\n",
    "triplets = tot_triplets[:int(len(tot_triplets)*split_percentage)]\n",
    "test_triplets = tot_triplets[int(len(tot_triplets)*split_percentage):]\n",
    "\n",
    "print('Dimensions:{} \\nNumber of points:{} \\nPulls:{}'.format(dimensions,number_of_points, len(tot_triplets)))\n",
    "print()\n",
    "print('TRAIN: ', len(triplets))\n",
    "print('TEST: ', len(test_triplets))\n",
    "\n",
    "epsilons = np.linspace(0.005, 0.1,5)[::-1]"
   ]
  },
  {
   "cell_type": "code",
   "execution_count": 79,
   "metadata": {
    "collapsed": false
   },
   "outputs": [],
   "source": [
    "from sklearn.metrics import accuracy_score\n",
    "\n",
    "def predictX(X_true, X_predict, test_triplets):\n",
    "    \n",
    "    true = []\n",
    "    pred = []\n",
    "    for q in test_triplets:\n",
    "        \n",
    "        true_label = np.sign(scoreX(X_true, q, 1))\n",
    "        pred_label = np.sign(scoreX(X_predict, q, 1))\n",
    "        \n",
    "        true.append(true_label)\n",
    "        pred.append(pred_label)\n",
    "    \n",
    "    acc = accuracy_score(true, pred)\n",
    "    print(\"Correctly predicted {0:.2f} % of the unseen triplets\".format(acc*100))    \n",
    "    \n",
    "    return acc\n",
    "\n",
    "def predictM(M_true, M_predict, test_triplets):\n",
    "    \n",
    "    true = []\n",
    "    pred = []\n",
    "    for q in test_triplets:\n",
    "        \n",
    "        true_label = np.sign(scoreM(M_true, q, 1))\n",
    "        pred_label = np.sign(scoreM(M_predict, q, 1))\n",
    "        \n",
    "        true.append(true_label)\n",
    "        pred.append(pred_label)\n",
    "    \n",
    "    acc = accuracy_score(true, pred)\n",
    "    print(\"Correctly predicted {0:.2f} % of the unseen triplets\".format(acc*100))    \n",
    "    \n",
    "    return acc"
   ]
  },
  {
   "cell_type": "code",
   "execution_count": null,
   "metadata": {
    "collapsed": false
   },
   "outputs": [],
   "source": []
  },
  {
   "cell_type": "markdown",
   "metadata": {},
   "source": [
    "# Algorithms"
   ]
  },
  {
   "cell_type": "code",
   "execution_count": 80,
   "metadata": {
    "collapsed": false
   },
   "outputs": [
    {
     "name": "stdout",
     "output_type": "stream",
     "text": [
      "EPOCH: 1 LOG ERROR 0.6893067033476893 Emp error 0.47596153846153844\n",
      "EPOCH: 2 LOG ERROR 0.6852214062228412 Emp error 0.45800339366515835\n",
      "EPOCH: 3 LOG ERROR 0.6808989580348035 Emp error 0.44372171945701355\n",
      "EPOCH: 4 LOG ERROR 0.676735363363108 Emp error 0.4348133484162896\n",
      "EPOCH: 5 LOG ERROR 0.67331324773756 Emp error 0.4253393665158371\n",
      "EPOCH: 6 LOG ERROR 0.670982006378623 Emp error 0.4205316742081448\n",
      "EPOCH: 7 LOG ERROR 0.6693820899689503 Emp error 0.4206730769230769\n",
      "EPOCH: 8 LOG ERROR 0.6681252037583506 Emp error 0.4182692307692308\n",
      "EPOCH: 9 LOG ERROR 0.6670581089110941 Emp error 0.4145927601809955\n",
      "EPOCH: 10 LOG ERROR 0.6661154703397717 Emp error 0.4111990950226244\n",
      "EPOCH: 11 LOG ERROR 0.6652744383688659 Emp error 0.4095022624434389\n",
      "EPOCH: 12 LOG ERROR 0.6645465490259085 Emp error 0.40921945701357465\n",
      "EPOCH: 13 LOG ERROR 0.663958839820079 Emp error 0.4072398190045249\n",
      "EPOCH: 14 LOG ERROR 0.6635092854762131 Emp error 0.4058257918552036\n",
      "EPOCH: 15 LOG ERROR 0.6631653111500544 Emp error 0.40625\n",
      "EPOCH: 16 LOG ERROR 0.6628931599470588 Emp error 0.40427036199095023\n",
      "EPOCH: 17 LOG ERROR 0.6626690754661544 Emp error 0.40384615384615385\n",
      "EPOCH: 18 LOG ERROR 0.6624779912358424 Emp error 0.40172511312217196\n",
      "EPOCH: 19 LOG ERROR 0.6623109017307465 Emp error 0.40002828054298645\n",
      "EPOCH: 20 LOG ERROR 0.6621627599702048 Emp error 0.40059389140271495\n",
      "EPOCH: 21 LOG ERROR 0.6620309351038406 Emp error 0.3980486425339366\n",
      "EPOCH: 22 LOG ERROR 0.6619141140745801 Emp error 0.3963518099547511\n",
      "EPOCH: 23 LOG ERROR 0.6618115451670935 Emp error 0.39606900452488686\n",
      "EPOCH: 24 LOG ERROR 0.6617225600964254 Emp error 0.3957861990950226\n",
      "EPOCH: 25 LOG ERROR 0.6616463278562046 Emp error 0.3953619909502262\n",
      "EPOCH: 26 LOG ERROR 0.6615817867490686 Emp error 0.3946549773755656\n",
      "EPOCH: 27 LOG ERROR 0.6615276900968164 Emp error 0.39437217194570134\n",
      "EPOCH: 28 LOG ERROR 0.661482702303481 Emp error 0.3930995475113122\n",
      "EPOCH: 29 LOG ERROR 0.6614454976038271 Emp error 0.3935237556561086\n",
      "EPOCH: 30 LOG ERROR 0.6614148356465075 Emp error 0.39394796380090497\n",
      "EPOCH: 31 LOG ERROR 0.6613896066488342 Emp error 0.3930995475113122\n",
      "EPOCH: 32 LOG ERROR 0.6613688498831526 Emp error 0.39338235294117646\n",
      "EPOCH: 33 LOG ERROR 0.6613517533464299 Emp error 0.3946549773755656\n",
      "EPOCH: 34 LOG ERROR 0.6613376423385959 Emp error 0.3947963800904977\n",
      "EPOCH: 35 LOG ERROR 0.6613259628343752 Emp error 0.3952205882352941\n",
      "EPOCH: 36 LOG ERROR 0.6613162634760581 Emp error 0.3952205882352941\n",
      "EPOCH: 37 LOG ERROR 0.6613081783615368 Emp error 0.3947963800904977\n",
      "EPOCH: 38 LOG ERROR 0.6613014116742669 Emp error 0.3956447963800905\n",
      "EPOCH: 39 LOG ERROR 0.6612957245143094 Emp error 0.3956447963800905\n",
      "EPOCH: 40 LOG ERROR 0.6612909239114256 Emp error 0.3956447963800905\n",
      "EPOCH: 41 LOG ERROR 0.6612868538181186 Emp error 0.3956447963800905\n",
      "EPOCH: 42 LOG ERROR 0.661283387811273 Emp error 0.39592760180995473\n",
      "EPOCH: 43 LOG ERROR 0.6612804232232696 Emp error 0.3963518099547511\n",
      "EPOCH: 44 LOG ERROR 0.661277876445078 Emp error 0.39606900452488686\n",
      "EPOCH: 45 LOG ERROR 0.6612756791775619 Emp error 0.396210407239819\n",
      "EPOCH: 46 LOG ERROR 0.6612737754432202 Emp error 0.39592760180995473\n",
      "EPOCH: 47 LOG ERROR 0.6612721192043529 Emp error 0.3963518099547511\n",
      "EPOCH: 48 LOG ERROR 0.661270672463082 Emp error 0.396210407239819\n",
      "EPOCH: 49 LOG ERROR 0.661269403743656 Emp error 0.396210407239819\n",
      "EPOCH: 50 LOG ERROR 0.6612682868777212 Emp error 0.39592760180995473\n",
      "EPOCH: 51 LOG ERROR 0.661267300029884 Emp error 0.39592760180995473\n",
      "EPOCH: 52 LOG ERROR 0.661266424914058 Emp error 0.3956447963800905\n",
      "EPOCH: 53 LOG ERROR 0.6612656461613287 Emp error 0.39550339366515835\n",
      "EPOCH: 54 LOG ERROR 0.661264950808699 Emp error 0.395079185520362\n",
      "EPOCH: 55 LOG ERROR 0.661264327884182 Emp error 0.3946549773755656\n",
      "EPOCH: 56 LOG ERROR 0.6612637680691077 Emp error 0.3947963800904977\n",
      "EPOCH: 57 LOG ERROR 0.6612632634223459 Emp error 0.3946549773755656\n",
      "EPOCH: 58 LOG ERROR 0.6612628071543877 Emp error 0.39437217194570134\n",
      "EPOCH: 59 LOG ERROR 0.6612623934416453 Emp error 0.3942307692307692\n",
      "EPOCH: 60 LOG ERROR 0.6612620172733471 Emp error 0.3940893665158371\n",
      "EPOCH: 61 LOG ERROR 0.6612616743248774 Emp error 0.3940893665158371\n",
      "EPOCH: 62 LOG ERROR 0.6612613608526786 Emp error 0.39394796380090497\n",
      "EPOCH: 63 LOG ERROR 0.6612610736067319 Emp error 0.3940893665158371\n",
      "EPOCH: 64 LOG ERROR 0.6612608097575016 Emp error 0.3942307692307692\n",
      "EPOCH: 65 LOG ERROR 0.6612605668347615 Emp error 0.39437217194570134\n",
      "EPOCH: 66 LOG ERROR 0.6612603426761429 Emp error 0.3940893665158371\n",
      "EPOCH: 67 LOG ERROR 0.6612601353838379 Emp error 0.3942307692307692\n",
      "EPOCH: 68 LOG ERROR 0.6612599432879913 Emp error 0.3942307692307692\n",
      "EPOCH: 69 LOG ERROR 0.6612597649156932 Emp error 0.3942307692307692\n",
      "EPOCH: 70 LOG ERROR 0.6612595989646127 Emp error 0.39451357466063347\n",
      "EPOCH: 71 LOG ERROR 0.6612594442805353 Emp error 0.39437217194570134\n",
      "EPOCH: 72 LOG ERROR 0.6612592998381991 Emp error 0.39451357466063347\n",
      "EPOCH: 73 LOG ERROR 0.661259164724854 Emp error 0.39437217194570134\n",
      "EPOCH: 74 LOG ERROR 0.661259038126161 Emp error 0.39437217194570134\n",
      "EPOCH: 75 LOG ERROR 0.6612589193140473 Emp error 0.39437217194570134\n",
      "EPOCH: 76 LOG ERROR 0.6612588076362278 Emp error 0.3942307692307692\n",
      "EPOCH: 77 LOG ERROR 0.6612587025071517 Emp error 0.3942307692307692\n",
      "EPOCH: 78 LOG ERROR 0.6612586034001529 Emp error 0.39437217194570134\n",
      "EPOCH: 79 LOG ERROR 0.6612585098406165 Emp error 0.39437217194570134\n",
      "EPOCH: 80 LOG ERROR 0.6612584214000551 Emp error 0.3940893665158371\n",
      "EPOCH: 81 LOG ERROR 0.6612583376909126 Emp error 0.3940893665158371\n",
      "EPOCH: 82 LOG ERROR 0.6612582583620449 Emp error 0.3946549773755656\n",
      "EPOCH: 83 LOG ERROR 0.6612581830947492 Emp error 0.3946549773755656\n",
      "EPOCH: 84 LOG ERROR 0.6612581115992732 Emp error 0.3947963800904977\n",
      "EPOCH: 85 LOG ERROR 0.6612580436117641 Emp error 0.3947963800904977\n",
      "EPOCH: 86 LOG ERROR 0.6612579788915653 Emp error 0.3947963800904977\n",
      "EPOCH: 87 LOG ERROR 0.6612579172188123 Emp error 0.3946549773755656\n",
      "EPOCH: 88 LOG ERROR 0.6612578583923685 Emp error 0.3946549773755656\n",
      "EPOCH: 89 LOG ERROR 0.6612578022279195 Emp error 0.3946549773755656\n",
      "EPOCH: 90 LOG ERROR 0.6612577485563403 Emp error 0.3946549773755656\n",
      "EPOCH: 91 LOG ERROR 0.6612576972221982 Emp error 0.3946549773755656\n",
      "EPOCH: 92 LOG ERROR 0.6612576480824768 Emp error 0.3947963800904977\n",
      "EPOCH: 93 LOG ERROR 0.6612576010053738 Emp error 0.3947963800904977\n",
      "EPOCH: 94 LOG ERROR 0.6612575558692779 Emp error 0.3947963800904977\n",
      "EPOCH: 95 LOG ERROR 0.6612575125618196 Emp error 0.3947963800904977\n",
      "EPOCH: 96 LOG ERROR 0.6612574709790484 Emp error 0.3947963800904977\n",
      "EPOCH: 97 LOG ERROR 0.6612574310246789 Emp error 0.3947963800904977\n",
      "EPOCH: 98 LOG ERROR 0.6612573926094018 Emp error 0.3947963800904977\n",
      "EPOCH: 99 LOG ERROR 0.6612573556502983 Emp error 0.3947963800904977\n",
      "EPOCH: 100 LOG ERROR 0.6612573200702724 Emp error 0.3947963800904977\n",
      "No progress\n",
      "Exiting\n"
     ]
    }
   ],
   "source": [
    "# Non Convex FULL GD\n",
    "exp = -1\n",
    "X0 = np.random.random((n,d))\n",
    "stats_non_convex_single_exp_full_gd = triplet_algorithms(ste_loss, \n",
    "                           triplets,\n",
    "                           X0,                       \n",
    "                           d,\n",
    "                           'full_grad', \n",
    "                           50,\n",
    "                           iters=200,\n",
    "                           epsilon = epsilons[exp],\n",
    "                           proj=None,\n",
    "                           debug=True\n",
    "                          )\n",
    "\n"
   ]
  },
  {
   "cell_type": "code",
   "execution_count": null,
   "metadata": {
    "collapsed": false
   },
   "outputs": [],
   "source": [
    "# Non Convex SGD\n",
    "stats_non_convex_single_exp_sgd = triplet_algorithms(ste_loss, \n",
    "                           triplets,\n",
    "                           X0,                       \n",
    "                           d,\n",
    "                           'sgd', \n",
    "                           0.2,\n",
    "                           iters=5000,\n",
    "                           epsilon = epsilons[exp],\n",
    "                           proj=None,\n",
    "                           debug=True\n",
    "                          )"
   ]
  },
  {
   "cell_type": "code",
   "execution_count": null,
   "metadata": {
    "collapsed": false
   },
   "outputs": [],
   "source": [
    "# Non Convex SVRG\n",
    "stats_non_convex_single_exp_svrg = triplet_algorithms(ste_loss, \n",
    "                           triplets,\n",
    "                           X0,                       \n",
    "                           d,\n",
    "                           'svrg', \n",
    "                           0.2,\n",
    "                           iters=5000,\n",
    "                           epsilon = epsilons[exp],\n",
    "                           proj=None,\n",
    "                           debug=True\n",
    "                          )"
   ]
  },
  {
   "cell_type": "code",
   "execution_count": 63,
   "metadata": {
    "collapsed": false
   },
   "outputs": [
    {
     "name": "stdout",
     "output_type": "stream",
     "text": [
      "EPOCH: 1 LOG ERROR 0.9748299749386453 Emp error 0.41482843137254904\n",
      "EPOCH: 2 LOG ERROR 2.8765468969336383 Emp error 0.5159313725490197\n",
      "EPOCH: 3 LOG ERROR 4.526397708660577 Emp error 0.4424019607843137\n",
      "EPOCH: 4 LOG ERROR 3.2320349831081105 Emp error 0.4950980392156863\n",
      "Step size was too big, halving it. Iteration #:  5\n",
      "EPOCH: 5 LOG ERROR 1.679653597868245 Emp error 0.4096200980392157\n",
      "EPOCH: 6 LOG ERROR 1.7941060699289102 Emp error 0.45588235294117646\n",
      "EPOCH: 7 LOG ERROR 2.148111415878356 Emp error 0.42340686274509803\n",
      "EPOCH: 8 LOG ERROR 1.4347757731547808 Emp error 0.42984068627450983\n",
      "EPOCH: 9 LOG ERROR 1.9665625643314641 Emp error 0.42340686274509803\n",
      "EPOCH: 10 LOG ERROR 1.4929304694653667 Emp error 0.4319852941176471\n",
      "EPOCH: 11 LOG ERROR 1.8696268869466097 Emp error 0.4166666666666667\n",
      "EPOCH: 12 LOG ERROR 1.4334788309819153 Emp error 0.4258578431372549\n",
      "EPOCH: 13 LOG ERROR 1.7458800405863157 Emp error 0.41237745098039214\n",
      "EPOCH: 14 LOG ERROR 1.3939445332784803 Emp error 0.4231004901960784\n",
      "EPOCH: 15 LOG ERROR 1.6438467392876346 Emp error 0.40839460784313725\n",
      "EPOCH: 16 LOG ERROR 1.3483831016650785 Emp error 0.42034313725490197\n",
      "EPOCH: 17 LOG ERROR 1.553008299115824 Emp error 0.4096200980392157\n",
      "EPOCH: 18 LOG ERROR 1.3042141053851786 Emp error 0.421875\n",
      "EPOCH: 19 LOG ERROR 1.474461522414569 Emp error 0.40808823529411764\n",
      "EPOCH: 20 LOG ERROR 1.260452984588297 Emp error 0.4227941176470588\n",
      "EPOCH: 21 LOG ERROR 1.4063489608129578 Emp error 0.4025735294117647\n",
      "EPOCH: 22 LOG ERROR 1.2182122144529253 Emp error 0.4209558823529412\n",
      "EPOCH: 23 LOG ERROR 1.347397859066911 Emp error 0.40318627450980393\n",
      "EPOCH: 24 LOG ERROR 1.1792858293718893 Emp error 0.4209558823529412\n",
      "EPOCH: 25 LOG ERROR 1.294491591642911 Emp error 0.4016544117647059\n",
      "EPOCH: 26 LOG ERROR 1.146411879610212 Emp error 0.42003676470588236\n",
      "EPOCH: 27 LOG ERROR 1.2445047313849364 Emp error 0.39981617647058826\n",
      "EPOCH: 28 LOG ERROR 1.1156162538426055 Emp error 0.41452205882352944\n",
      "EPOCH: 29 LOG ERROR 1.1959828511524664 Emp error 0.39767156862745096\n",
      "EPOCH: 30 LOG ERROR 1.083828972184202 Emp error 0.41544117647058826\n",
      "EPOCH: 31 LOG ERROR 1.1461218348999396 Emp error 0.3958333333333333\n",
      "EPOCH: 32 LOG ERROR 1.0495995349913743 Emp error 0.41207107843137253\n",
      "EPOCH: 33 LOG ERROR 1.0930636754277558 Emp error 0.39675245098039214\n",
      "EPOCH: 34 LOG ERROR 1.0116845446659772 Emp error 0.40839460784313725\n",
      "EPOCH: 35 LOG ERROR 1.041724990354243 Emp error 0.3946078431372549\n",
      "EPOCH: 36 LOG ERROR 0.9724856508229737 Emp error 0.40870098039215685\n",
      "EPOCH: 37 LOG ERROR 0.9956681529131248 Emp error 0.3909313725490196\n",
      "EPOCH: 38 LOG ERROR 0.9346798303947359 Emp error 0.40349264705882354\n",
      "EPOCH: 39 LOG ERROR 0.9539808243078423 Emp error 0.3912377450980392\n",
      "EPOCH: 40 LOG ERROR 0.8992870317611953 Emp error 0.4022671568627451\n",
      "EPOCH: 41 LOG ERROR 0.915337042948828 Emp error 0.38756127450980393\n",
      "EPOCH: 42 LOG ERROR 0.8662478462133669 Emp error 0.39950980392156865\n",
      "EPOCH: 43 LOG ERROR 0.8790056353491872 Emp error 0.3897058823529412\n",
      "EPOCH: 44 LOG ERROR 0.8352336529063042 Emp error 0.39675245098039214\n",
      "EPOCH: 45 LOG ERROR 0.844634544552795 Emp error 0.3866421568627451\n",
      "EPOCH: 46 LOG ERROR 0.805965880453297 Emp error 0.3943014705882353\n",
      "EPOCH: 47 LOG ERROR 0.8120807483685749 Emp error 0.3857230392156863\n",
      "EPOCH: 48 LOG ERROR 0.7782782069016275 Emp error 0.39215686274509803\n",
      "EPOCH: 49 LOG ERROR 0.7813229480749936 Emp error 0.38174019607843135\n",
      "EPOCH: 50 LOG ERROR 0.7521086666130243 Emp error 0.3866421568627451\n",
      "EPOCH: 51 LOG ERROR 0.7524240978919863 Emp error 0.37653186274509803\n",
      "EPOCH: 52 LOG ERROR 0.7274883736082197 Emp error 0.38419117647058826\n",
      "EPOCH: 53 LOG ERROR 0.7255196316076591 Emp error 0.37254901960784315\n",
      "EPOCH: 54 LOG ERROR 0.704537228833706 Emp error 0.3789828431372549\n",
      "EPOCH: 55 LOG ERROR 0.7008139834073576 Emp error 0.3704044117647059\n",
      "EPOCH: 56 LOG ERROR 0.6834610175301181 Emp error 0.37346813725490197\n",
      "EPOCH: 57 LOG ERROR 0.6785751534768629 Emp error 0.36642156862745096\n",
      "EPOCH: 58 LOG ERROR 0.6645420368585959 Emp error 0.3710171568627451\n",
      "EPOCH: 59 LOG ERROR 0.65911906635176 Emp error 0.3645833333333333\n",
      "EPOCH: 60 LOG ERROR 0.6481140359629906 Emp error 0.3602941176470588\n",
      "EPOCH: 61 LOG ERROR 0.642772578782271 Emp error 0.359375\n",
      "EPOCH: 62 LOG ERROR 0.634510836229951 Emp error 0.3489583333333333\n",
      "EPOCH: 63 LOG ERROR 0.6298032167078308 Emp error 0.35232843137254904\n",
      "EPOCH: 64 LOG ERROR 0.6239809119709877 Emp error 0.34589460784313725\n",
      "EPOCH: 65 LOG ERROR 0.6203126403417504 Emp error 0.34528186274509803\n",
      "EPOCH: 66 LOG ERROR 0.6165713087602058 Emp error 0.34129901960784315\n",
      "EPOCH: 67 LOG ERROR 0.6141133943979117 Emp error 0.3403799019607843\n",
      "EPOCH: 68 LOG ERROR 0.6120094403529407 Emp error 0.34099264705882354\n",
      "EPOCH: 69 LOG ERROR 0.6106489273393398 Emp error 0.33639705882352944\n",
      "EPOCH: 70 LOG ERROR 0.6096627790302587 Emp error 0.34129901960784315\n",
      "EPOCH: 71 LOG ERROR 0.6090639651086526 Emp error 0.3400735294117647\n",
      "EPOCH: 72 LOG ERROR 0.608690447583603 Emp error 0.34129901960784315\n",
      "EPOCH: 73 LOG ERROR 0.608478906972068 Emp error 0.3400735294117647\n",
      "EPOCH: 74 LOG ERROR 0.6083571020729838 Emp error 0.3400735294117647\n",
      "EPOCH: 75 LOG ERROR 0.608286173307645 Emp error 0.3388480392156863\n",
      "EPOCH: 76 LOG ERROR 0.6082409681004511 Emp error 0.3385416666666667\n",
      "EPOCH: 77 LOG ERROR 0.6082089342973631 Emp error 0.3385416666666667\n",
      "EPOCH: 78 LOG ERROR 0.6081839099978041 Emp error 0.33792892156862747\n",
      "EPOCH: 79 LOG ERROR 0.6081631281313303 Emp error 0.3382352941176471\n",
      "EPOCH: 80 LOG ERROR 0.6081453035561037 Emp error 0.33731617647058826\n",
      "EPOCH: 81 LOG ERROR 0.6081297687595251 Emp error 0.33762254901960786\n",
      "EPOCH: 82 LOG ERROR 0.6081161078973419 Emp error 0.33731617647058826\n",
      "EPOCH: 83 LOG ERROR 0.6081040205405374 Emp error 0.33762254901960786\n",
      "EPOCH: 84 LOG ERROR 0.608093271515047 Emp error 0.33731617647058826\n",
      "EPOCH: 85 LOG ERROR 0.6080836702352994 Emp error 0.33731617647058826\n",
      "EPOCH: 86 LOG ERROR 0.608075059783014 Emp error 0.33731617647058826\n",
      "EPOCH: 87 LOG ERROR 0.6080673097083499 Emp error 0.33731617647058826\n",
      "EPOCH: 88 LOG ERROR 0.6080603107277907 Emp error 0.33731617647058826\n",
      "EPOCH: 89 LOG ERROR 0.6080539706558592 Emp error 0.33762254901960786\n",
      "EPOCH: 90 LOG ERROR 0.6080482112317902 Emp error 0.33762254901960786\n",
      "EPOCH: 91 LOG ERROR 0.6080429656195767 Emp error 0.33762254901960786\n",
      "EPOCH: 92 LOG ERROR 0.6080381764223924 Emp error 0.33762254901960786\n",
      "EPOCH: 93 LOG ERROR 0.6080337940935175 Emp error 0.33731617647058826\n",
      "EPOCH: 94 LOG ERROR 0.6080297756555659 Emp error 0.33731617647058826\n",
      "EPOCH: 95 LOG ERROR 0.6080260836610913 Emp error 0.33731617647058826\n",
      "EPOCH: 96 LOG ERROR 0.6080226853436416 Emp error 0.33731617647058826\n",
      "EPOCH: 97 LOG ERROR 0.6080195519200434 Emp error 0.33762254901960786\n",
      "EPOCH: 98 LOG ERROR 0.6080166580135732 Emp error 0.33792892156862747\n",
      "EPOCH: 99 LOG ERROR 0.6080139811743468 Emp error 0.33792892156862747\n",
      "EPOCH: 100 LOG ERROR 0.608011501478399 Emp error 0.33792892156862747\n",
      "EPOCH: 101 LOG ERROR 0.608009201190783 Emp error 0.33792892156862747\n",
      "EPOCH: 102 LOG ERROR 0.6080070644810506 Emp error 0.33792892156862747\n",
      "EPOCH: 103 LOG ERROR 0.6080050771818708 Emp error 0.33792892156862747\n",
      "EPOCH: 104 LOG ERROR 0.6080032265832835 Emp error 0.33792892156862747\n",
      "EPOCH: 105 LOG ERROR 0.608001501256592 Emp error 0.33762254901960786\n",
      "EPOCH: 106 LOG ERROR 0.6079998909029939 Emp error 0.33762254901960786\n",
      "EPOCH: 107 LOG ERROR 0.6079983862230186 Emp error 0.33762254901960786\n",
      "EPOCH: 108 LOG ERROR 0.6079969788034219 Emp error 0.33762254901960786\n",
      "EPOCH: 109 LOG ERROR 0.6079956610189173 Emp error 0.33762254901960786\n",
      "EPOCH: 110 LOG ERROR 0.607994425946512 Emp error 0.33792892156862747\n",
      "EPOCH: 111 LOG ERROR 0.6079932672905659 Emp error 0.33792892156862747\n",
      "EPOCH: 112 LOG ERROR 0.6079921793170606 Emp error 0.33792892156862747\n",
      "EPOCH: 113 LOG ERROR 0.6079911567957956 Emp error 0.33792892156862747\n",
      "EPOCH: 114 LOG ERROR 0.6079901949493853 Emp error 0.33792892156862747\n",
      "EPOCH: 115 LOG ERROR 0.6079892894081746 Emp error 0.33792892156862747\n",
      "EPOCH: 116 LOG ERROR 0.6079884361702805 Emp error 0.3382352941176471\n",
      "EPOCH: 117 LOG ERROR 0.6079876315660931 Emp error 0.3382352941176471\n",
      "EPOCH: 118 LOG ERROR 0.6079868722266857 Emp error 0.3382352941176471\n",
      "EPOCH: 119 LOG ERROR 0.6079861550556181 Emp error 0.3382352941176471\n",
      "EPOCH: 120 LOG ERROR 0.6079854772037576 Emp error 0.3382352941176471\n",
      "EPOCH: 121 LOG ERROR 0.6079848360467164 Emp error 0.3382352941176471\n",
      "EPOCH: 122 LOG ERROR 0.6079842291646279 Emp error 0.33792892156862747\n",
      "EPOCH: 123 LOG ERROR 0.6079836543239805 Emp error 0.33792892156862747\n",
      "EPOCH: 124 LOG ERROR 0.6079831094612476 Emp error 0.33792892156862747\n",
      "EPOCH: 125 LOG ERROR 0.607982592668173 Emp error 0.33792892156862747\n",
      "EPOCH: 126 LOG ERROR 0.6079821021784496 Emp error 0.33792892156862747\n",
      "EPOCH: 127 LOG ERROR 0.6079816363557202 Emp error 0.33792892156862747\n",
      "EPOCH: 128 LOG ERROR 0.6079811936826803 Emp error 0.33792892156862747\n",
      "EPOCH: 129 LOG ERROR 0.6079807727512422 Emp error 0.33792892156862747\n",
      "EPOCH: 130 LOG ERROR 0.6079803722535787 Emp error 0.33792892156862747\n",
      "EPOCH: 131 LOG ERROR 0.6079799909740121 Emp error 0.33792892156862747\n",
      "EPOCH: 132 LOG ERROR 0.6079796277816234 Emp error 0.33792892156862747\n",
      "EPOCH: 133 LOG ERROR 0.6079792816235284 Emp error 0.33792892156862747\n",
      "EPOCH: 134 LOG ERROR 0.6079789515187618 Emp error 0.33792892156862747\n",
      "EPOCH: 135 LOG ERROR 0.6079786365526808 Emp error 0.3382352941176471\n",
      "EPOCH: 136 LOG ERROR 0.607978335871857 Emp error 0.3382352941176471\n",
      "EPOCH: 137 LOG ERROR 0.6079780486794317 Emp error 0.3382352941176471\n",
      "EPOCH: 138 LOG ERROR 0.6079777742308248 Emp error 0.3382352941176471\n",
      "EPOCH: 139 LOG ERROR 0.6079775118298414 Emp error 0.3382352941176471\n",
      "EPOCH: 140 LOG ERROR 0.6079772608250872 Emp error 0.3382352941176471\n",
      "EPOCH: 141 LOG ERROR 0.6079770206066888 Emp error 0.3382352941176471\n",
      "EPOCH: 142 LOG ERROR 0.60797679060326 Emp error 0.3382352941176471\n",
      "EPOCH: 143 LOG ERROR 0.607976570279152 Emp error 0.3382352941176471\n",
      "EPOCH: 144 LOG ERROR 0.6079763591318893 Emp error 0.3382352941176471\n",
      "EPOCH: 145 LOG ERROR 0.6079761566898331 Emp error 0.3382352941176471\n",
      "EPOCH: 146 LOG ERROR 0.6079759625100157 Emp error 0.3382352941176471\n",
      "EPOCH: 147 LOG ERROR 0.607975776176145 Emp error 0.3382352941176471\n",
      "EPOCH: 148 LOG ERROR 0.6079755972967834 Emp error 0.3382352941176471\n",
      "EPOCH: 149 LOG ERROR 0.6079754255036353 Emp error 0.3382352941176471\n",
      "EPOCH: 150 LOG ERROR 0.607975260449989 Emp error 0.3382352941176471\n",
      "EPOCH: 151 LOG ERROR 0.6079751018092714 Emp error 0.3382352941176471\n",
      "EPOCH: 152 LOG ERROR 0.6079749492736983 Emp error 0.3382352941176471\n",
      "EPOCH: 153 LOG ERROR 0.6079748025530454 Emp error 0.3382352941176471\n",
      "EPOCH: 154 LOG ERROR 0.6079746613735009 Emp error 0.3382352941176471\n",
      "EPOCH: 155 LOG ERROR 0.6079745254765887 Emp error 0.3382352941176471\n",
      "EPOCH: 156 LOG ERROR 0.6079743946181969 Emp error 0.3382352941176471\n",
      "EPOCH: 157 LOG ERROR 0.6079742685676511 Emp error 0.3382352941176471\n",
      "EPOCH: 158 LOG ERROR 0.6079741471068685 Emp error 0.3382352941176471\n",
      "EPOCH: 159 LOG ERROR 0.6079740300295711 Emp error 0.3382352941176471\n",
      "EPOCH: 160 LOG ERROR 0.6079739171405392 Emp error 0.3382352941176471\n",
      "EPOCH: 161 LOG ERROR 0.6079738082549494 Emp error 0.3382352941176471\n",
      "EPOCH: 162 LOG ERROR 0.6079737031977118 Emp error 0.3382352941176471\n",
      "EPOCH: 163 LOG ERROR 0.6079736018028976 Emp error 0.3382352941176471\n",
      "EPOCH: 164 LOG ERROR 0.607973503913182 Emp error 0.3382352941176471\n",
      "EPOCH: 165 LOG ERROR 0.6079734093793309 Emp error 0.3382352941176471\n",
      "EPOCH: 166 LOG ERROR 0.6079733180597108 Emp error 0.3382352941176471\n",
      "EPOCH: 167 LOG ERROR 0.6079732298198555 Emp error 0.3382352941176471\n",
      "EPOCH: 168 LOG ERROR 0.6079731445320402 Emp error 0.3382352941176471\n",
      "EPOCH: 169 LOG ERROR 0.6079730620748905 Emp error 0.3382352941176471\n",
      "EPOCH: 170 LOG ERROR 0.6079729823330182 Emp error 0.3382352941176471\n",
      "EPOCH: 171 LOG ERROR 0.6079729051966779 Emp error 0.3382352941176471\n",
      "EPOCH: 172 LOG ERROR 0.6079728305614506 Emp error 0.3382352941176471\n",
      "EPOCH: 173 LOG ERROR 0.6079727583279474 Emp error 0.3382352941176471\n",
      "EPOCH: 174 LOG ERROR 0.6079726884015129 Emp error 0.3382352941176471\n",
      "No progress\n",
      "Exiting\n"
     ]
    }
   ],
   "source": [
    "# CONVEX STE FULL GRAD Single experiment\n",
    "M0 = X0 @ X0.T\n",
    "stats_convex_single_exp_full_gd = triplet_algorithms(ste_loss_convex, \n",
    "                       triplets,\n",
    "                       M0,                       \n",
    "                       d,                            \n",
    "                       'full_grad', \n",
    "                        800,\n",
    "                       iters=200,\n",
    "                       epsilon =epsilons[exp],\n",
    "                       proj=projected_psd,\n",
    "                       debug= True)\n",
    "    \n"
   ]
  },
  {
   "cell_type": "code",
   "execution_count": null,
   "metadata": {
    "collapsed": false
   },
   "outputs": [],
   "source": [
    "# CONVEX STE SGD Single experiment\n",
    "M0 = X0 @ X0.T\n",
    "stats_convex_single_exp_sgd = triplet_algorithms(ste_loss_convex, \n",
    "                       triplets,\n",
    "                       M0,                       \n",
    "                       d,                            \n",
    "                       'sgd', \n",
    "                        1,\n",
    "                       iters=5000,\n",
    "                       epsilon =epsilons[exp],\n",
    "                       proj=projected_psd,\n",
    "                       debug= True)\n",
    "    \n"
   ]
  },
  {
   "cell_type": "code",
   "execution_count": null,
   "metadata": {
    "collapsed": false
   },
   "outputs": [],
   "source": [
    "# CONVEX STE SVRG Single experiment\n",
    "M0 = X0 @ X0.T\n",
    "stats_convex_single_exp_svrg = triplet_algorithms(ste_loss_convex, \n",
    "                       triplets,\n",
    "                       M0,                       \n",
    "                       d,                            \n",
    "                       'svrg', \n",
    "                        100,\n",
    "                       iters=5000,\n",
    "                       epsilon =epsilons[exp],\n",
    "                       proj=projected_psd,\n",
    "                       debug= True)\n",
    "    \n"
   ]
  },
  {
   "cell_type": "code",
   "execution_count": null,
   "metadata": {
    "collapsed": true
   },
   "outputs": [],
   "source": []
  },
  {
   "cell_type": "code",
   "execution_count": 18,
   "metadata": {
    "collapsed": false
   },
   "outputs": [
    {
     "data": {
      "image/png": "[encoded data removed]",
      "text/plain": [
       "<matplotlib.figure.Figure at 0x117730b00>"
      ]
     },
     "metadata": {},
     "output_type": "display_data"
    }
   ],
   "source": [
    "# PLOTTING CODE\n",
    "\n",
    "df = pd.DataFrame([\n",
    "                stats_non_convex_single_exp_full_gd['emp'],\n",
    "        stats_non_convex_single_exp_sgd['emp'],\n",
    "        stats_non_convex_single_exp_svrg['emp'],\n",
    "                   stats_convex_single_exp_full_gd['emp'],                    \n",
    "                   stats_convex_single_exp_svrg['emp'],\n",
    "                   stats_convex_single_exp_sgd['emp']                   \n",
    "                  ]).T\n",
    "\n",
    "df.columns = [\n",
    "              'Non convex: Factored full gradient descent',\n",
    "              'Non convex: Factored SGD',\n",
    "              'Non convex: Factored SVRG',\n",
    "              'Convex: Projection onto PSD cone full gradient descent', \n",
    "              'Convex: Projection onto PSD cone SVRG',\n",
    "              'Convex: Projection onto PSD cone SGD'\n",
    "              \n",
    "             ]\n",
    "\n",
    "ax = df.iloc[:1000].plot(figsize=(18,8), fontsize=18)\n",
    "ax.set_ylabel('0-1 loss', fontsize=22)\n",
    "ax.set_xlabel('Epochs', fontsize=22)\n",
    "ax.set_title('Training error: Epsilon= {}'.format(epsilons[exp]), fontsize=22)\n",
    "ax.legend(fontsize=18);\n"
   ]
  },
  {
   "cell_type": "markdown",
   "metadata": {},
   "source": [
    "# TIMING CODE"
   ]
  },
  {
   "cell_type": "code",
   "execution_count": null,
   "metadata": {
    "collapsed": false
   },
   "outputs": [],
   "source": [
    "# FUll Experimental setup\n",
    "stats_non_convex = []\n",
    "stats_d = []\n",
    "stats_convex = []\n",
    "\n",
    "for epsilon in epsilons:\n",
    "    print('Epsilon', epsilon)\n",
    "    X0 = np.random.random((n,d))\n",
    "    M0 = X0 @ X0.T\n",
    "    \n",
    "    print('NO PROJ')\n",
    "    stats1= triplet_algorithms(ste_loss, \n",
    "                       triplets,\n",
    "                       X0,                       \n",
    "                       d,\n",
    "                       'full_grad', \n",
    "                       20,\n",
    "                       iters=1000,\n",
    "                       epsilon = epsilon,\n",
    "                       proj=None,\n",
    "                       debug=False)\n",
    "    print()\n",
    "    print('PROJ PSD')\n",
    "    stats2 = triplet_algorithms(ste_loss_convex, \n",
    "                       triplets,\n",
    "                       M0,                       \n",
    "                       d,                            \n",
    "                       'full_grad', \n",
    "                        600,\n",
    "                       iters=5000,\n",
    "                       epsilon =epsilon,\n",
    "                       proj=projected_psd,\n",
    "                       debug= False)\n",
    "\n",
    "#     print()    \n",
    "#     print('PROJ RANK D')    \n",
    "#     stats3 = triplet_algorithms(ste_loss_convex, \n",
    "#                        triplets,\n",
    "#                        M0,                       \n",
    "#                        d,                            \n",
    "#                        'full_grad', \n",
    "#                         600,\n",
    "#                        iters=5000,\n",
    "#                        epsilon =epsilon,\n",
    "#                        proj=projected_d,\n",
    "#                        debug= False)\n",
    "    \n",
    "    \n",
    "#     stats_d.append(stats3)\n",
    "    stats_convex.append(stats2)    \n",
    "    stats_non_convex.append(stats1)\n",
    "    print()\n",
    "    \n"
   ]
  },
  {
   "cell_type": "code",
   "execution_count": null,
   "metadata": {
    "collapsed": false
   },
   "outputs": [],
   "source": [
    "\n",
    "df = []\n",
    "k=0\n",
    "for i,j in zip(stats_non_convex, stats_d):\n",
    "    df.append(\n",
    "        [sum(i['time_per_iter']),\n",
    "        sum(j['time_per_iter'])]        \n",
    "        \n",
    "    )\n",
    "        \n",
    "    k+=1    \n",
    "    if k== len(epsilons)-1:\n",
    "        break\n",
    "        \n",
    "        \n",
    "df = pd.DataFrame(df, columns=\n",
    "                  [\n",
    "                    'Non convex FULL GD',\n",
    "                    'Convex'\n",
    "                  ], \n",
    "                  index=epsilons[:-1])\n",
    "\n",
    "ax = df.plot(figsize=(18,8), fontsize=18, kind='bar')\n",
    "ax.set_ylabel('Time(sec)', fontsize=22)\n",
    "ax.set_xlabel('Error: Epsilon', fontsize=22)\n",
    "ax.legend(fontsize=22, loc='upper left');        "
   ]
  },
  {
   "cell_type": "code",
   "execution_count": null,
   "metadata": {
    "collapsed": false
   },
   "outputs": [],
   "source": [
    "X_hat_ncvx = stats_non_convex_single_exp_full_gd['embedding']\n",
    "M_hat = stats_convex_single_exp_full_gd['embedding']"
   ]
  },
  {
   "cell_type": "code",
   "execution_count": null,
   "metadata": {
    "collapsed": false
   },
   "outputs": [],
   "source": []
  },
  {
   "cell_type": "code",
   "execution_count": null,
   "metadata": {
    "collapsed": false
   },
   "outputs": [],
   "source": []
  },
  {
   "cell_type": "code",
   "execution_count": null,
   "metadata": {
    "collapsed": false
   },
   "outputs": [],
   "source": []
  },
  {
   "cell_type": "code",
   "execution_count": null,
   "metadata": {
    "collapsed": false
   },
   "outputs": [],
   "source": []
  },
  {
   "cell_type": "code",
   "execution_count": 64,
   "metadata": {
    "collapsed": false
   },
   "outputs": [
    {
     "name": "stdout",
     "output_type": "stream",
     "text": [
      "iter=1, emp_loss=0.530637, log_loss=0.705344, Gnorm=0.029824, Mnorm=1.000000, dif=3.569573\n",
      "iter=2, emp_loss=0.531556, log_loss=0.706626, Gnorm=0.031745, Mnorm=0.978735, dif=0.290099\n",
      "iter=3, emp_loss=0.533701, log_loss=0.707018, Gnorm=0.032544, Mnorm=0.984774, dif=0.095819\n",
      "iter=4, emp_loss=0.527574, log_loss=0.707187, Gnorm=0.032799, Mnorm=0.989406, dif=0.044295\n",
      "iter=5, emp_loss=0.520833, log_loss=0.707275, Gnorm=0.032913, Mnorm=0.992347, dif=0.024460\n",
      "iter=6, emp_loss=0.514400, log_loss=0.707326, Gnorm=0.032974, Mnorm=0.994254, dif=0.015085\n",
      "iter=7, emp_loss=0.511642, log_loss=0.707358, Gnorm=0.033012, Mnorm=0.995542, dif=0.010032\n",
      "iter=8, emp_loss=0.511949, log_loss=0.707380, Gnorm=0.033036, Mnorm=0.996447, dif=0.007049\n",
      "iter=9, emp_loss=0.513787, log_loss=0.707395, Gnorm=0.033053, Mnorm=0.997105, dif=0.005165\n",
      "iter=10, emp_loss=0.513174, log_loss=0.707407, Gnorm=0.033065, Mnorm=0.997598, dif=0.003911\n",
      "iter=11, emp_loss=0.512561, log_loss=0.707415, Gnorm=0.033074, Mnorm=0.997975, dif=0.003042\n",
      "iter=12, emp_loss=0.512561, log_loss=0.707422, Gnorm=0.033081, Mnorm=0.998271, dif=0.002418\n",
      "iter=13, emp_loss=0.513787, log_loss=0.707427, Gnorm=0.033087, Mnorm=0.998507, dif=0.001958\n",
      "iter=14, emp_loss=0.515012, log_loss=0.707431, Gnorm=0.033091, Mnorm=0.998697, dif=0.001611\n",
      "iter=15, emp_loss=0.514400, log_loss=0.707434, Gnorm=0.033095, Mnorm=0.998854, dif=0.001343\n",
      "iter=16, emp_loss=0.514093, log_loss=0.707437, Gnorm=0.033098, Mnorm=0.998984, dif=0.001133\n",
      "iter=17, emp_loss=0.514093, log_loss=0.707440, Gnorm=0.033101, Mnorm=0.999093, dif=0.000966\n",
      "iter=18, emp_loss=0.513480, log_loss=0.707441, Gnorm=0.033103, Mnorm=0.999186, dif=0.000831\n",
      "iter=19, emp_loss=0.512255, log_loss=0.707443, Gnorm=0.033105, Mnorm=0.999265, dif=0.000720\n",
      "iter=20, emp_loss=0.512561, log_loss=0.707445, Gnorm=0.033106, Mnorm=0.999333, dif=0.000629\n",
      "iter=21, emp_loss=0.513174, log_loss=0.707446, Gnorm=0.033108, Mnorm=0.999392, dif=0.000553\n",
      "iter=22, emp_loss=0.512868, log_loss=0.707447, Gnorm=0.033109, Mnorm=0.999444, dif=0.000490\n",
      "iter=23, emp_loss=0.513480, log_loss=0.707448, Gnorm=0.033110, Mnorm=0.999489, dif=0.000436\n",
      "iter=24, emp_loss=0.514093, log_loss=0.707449, Gnorm=0.033111, Mnorm=0.999529, dif=0.000389\n",
      "iter=25, emp_loss=0.514093, log_loss=0.707449, Gnorm=0.033112, Mnorm=0.999565, dif=0.000350\n",
      "iter=26, emp_loss=0.513480, log_loss=0.707450, Gnorm=0.033113, Mnorm=0.999596, dif=0.000315\n",
      "iter=27, emp_loss=0.513480, log_loss=0.707451, Gnorm=0.033113, Mnorm=0.999625, dif=0.000286\n",
      "iter=28, emp_loss=0.513174, log_loss=0.707451, Gnorm=0.033114, Mnorm=0.999650, dif=0.000260\n",
      "iter=29, emp_loss=0.513480, log_loss=0.707452, Gnorm=0.033114, Mnorm=0.999673, dif=0.000237\n",
      "iter=30, emp_loss=0.513480, log_loss=0.707452, Gnorm=0.033115, Mnorm=0.999694, dif=0.000216\n",
      "iter=31, emp_loss=0.513480, log_loss=0.707452, Gnorm=0.033115, Mnorm=0.999713, dif=0.000199\n",
      "iter=32, emp_loss=0.513787, log_loss=0.707453, Gnorm=0.033116, Mnorm=0.999730, dif=0.000183\n",
      "iter=33, emp_loss=0.513787, log_loss=0.707453, Gnorm=0.033116, Mnorm=0.999745, dif=0.000168\n",
      "iter=34, emp_loss=0.513787, log_loss=0.707453, Gnorm=0.033117, Mnorm=0.999760, dif=0.000156\n",
      "iter=35, emp_loss=0.513480, log_loss=0.707454, Gnorm=0.033117, Mnorm=0.999773, dif=0.000144\n",
      "iter=36, emp_loss=0.513174, log_loss=0.707454, Gnorm=0.033117, Mnorm=0.999785, dif=0.000134\n",
      "iter=37, emp_loss=0.512561, log_loss=0.707454, Gnorm=0.033117, Mnorm=0.999796, dif=0.000125\n",
      "iter=38, emp_loss=0.512868, log_loss=0.707454, Gnorm=0.033118, Mnorm=0.999807, dif=0.000116\n",
      "iter=39, emp_loss=0.512868, log_loss=0.707455, Gnorm=0.033118, Mnorm=0.999816, dif=0.000109\n",
      "iter=40, emp_loss=0.513174, log_loss=0.707455, Gnorm=0.033118, Mnorm=0.999825, dif=0.000102\n",
      "iter=41, emp_loss=0.513480, log_loss=0.707455, Gnorm=0.033118, Mnorm=0.999833, dif=0.000095\n",
      "iter=42, emp_loss=0.513787, log_loss=0.707455, Gnorm=0.033119, Mnorm=0.999841, dif=0.000089\n",
      "iter=43, emp_loss=0.514093, log_loss=0.707455, Gnorm=0.033119, Mnorm=0.999848, dif=0.000084\n",
      "iter=44, emp_loss=0.514093, log_loss=0.707455, Gnorm=0.033119, Mnorm=0.999855, dif=0.000079\n",
      "iter=45, emp_loss=0.514093, log_loss=0.707455, Gnorm=0.033119, Mnorm=0.999861, dif=0.000075\n",
      "iter=46, emp_loss=0.513787, log_loss=0.707456, Gnorm=0.033119, Mnorm=0.999867, dif=0.000070\n",
      "iter=47, emp_loss=0.513787, log_loss=0.707456, Gnorm=0.033119, Mnorm=0.999872, dif=0.000066\n",
      "iter=48, emp_loss=0.513787, log_loss=0.707456, Gnorm=0.033120, Mnorm=0.999878, dif=0.000063\n",
      "iter=49, emp_loss=0.513480, log_loss=0.707456, Gnorm=0.033120, Mnorm=0.999882, dif=0.000060\n",
      "iter=50, emp_loss=0.513480, log_loss=0.707456, Gnorm=0.033120, Mnorm=0.999887, dif=0.000057\n",
      "iter=51, emp_loss=0.513480, log_loss=0.707456, Gnorm=0.033120, Mnorm=0.999891, dif=0.000054\n",
      "iter=52, emp_loss=0.513787, log_loss=0.707456, Gnorm=0.033120, Mnorm=0.999895, dif=0.000051\n",
      "iter=53, emp_loss=0.513787, log_loss=0.707456, Gnorm=0.033120, Mnorm=0.999899, dif=0.000048\n",
      "iter=54, emp_loss=0.514400, log_loss=0.707456, Gnorm=0.033120, Mnorm=0.999903, dif=0.000046\n",
      "iter=55, emp_loss=0.514706, log_loss=0.707456, Gnorm=0.033120, Mnorm=0.999906, dif=0.000044\n",
      "iter=56, emp_loss=0.514706, log_loss=0.707456, Gnorm=0.033120, Mnorm=0.999910, dif=0.000042\n",
      "iter=57, emp_loss=0.514706, log_loss=0.707457, Gnorm=0.033121, Mnorm=0.999913, dif=0.000040\n",
      "iter=58, emp_loss=0.514706, log_loss=0.707457, Gnorm=0.033121, Mnorm=0.999916, dif=0.000038\n",
      "iter=59, emp_loss=0.514706, log_loss=0.707457, Gnorm=0.033121, Mnorm=0.999918, dif=0.000037\n",
      "iter=60, emp_loss=0.514706, log_loss=0.707457, Gnorm=0.033121, Mnorm=0.999921, dif=0.000035\n",
      "iter=61, emp_loss=0.514706, log_loss=0.707457, Gnorm=0.033121, Mnorm=0.999924, dif=0.000034\n",
      "iter=62, emp_loss=0.514706, log_loss=0.707457, Gnorm=0.033121, Mnorm=0.999926, dif=0.000032\n",
      "iter=63, emp_loss=0.514706, log_loss=0.707457, Gnorm=0.033121, Mnorm=0.999928, dif=0.000031\n",
      "iter=64, emp_loss=0.514706, log_loss=0.707457, Gnorm=0.033121, Mnorm=0.999930, dif=0.000030\n",
      "iter=65, emp_loss=0.514706, log_loss=0.707457, Gnorm=0.033121, Mnorm=0.999933, dif=0.000028\n",
      "iter=66, emp_loss=0.514706, log_loss=0.707457, Gnorm=0.033121, Mnorm=0.999935, dif=0.000027\n",
      "iter=67, emp_loss=0.514706, log_loss=0.707457, Gnorm=0.033121, Mnorm=0.999936, dif=0.000026\n",
      "iter=68, emp_loss=0.514706, log_loss=0.707457, Gnorm=0.033121, Mnorm=0.999938, dif=0.000025\n",
      "iter=69, emp_loss=0.515012, log_loss=0.707457, Gnorm=0.033121, Mnorm=0.999940, dif=0.000024\n",
      "iter=70, emp_loss=0.515012, log_loss=0.707457, Gnorm=0.033121, Mnorm=0.999942, dif=0.000023\n",
      "iter=71, emp_loss=0.515012, log_loss=0.707457, Gnorm=0.033121, Mnorm=0.999943, dif=0.000023\n",
      "No progress\n"
     ]
    }
   ],
   "source": [
    "# FRANK WOLFE\n",
    "X0 = Utils.center_data(np.random.rand(n,d))\n",
    "Xhat, stats = eigen_embed(X0, triplets, method='FW', epsilon=epsilons[-1], debug=True, maxits=200)\n",
    " "
   ]
  },
  {
   "cell_type": "code",
   "execution_count": null,
   "metadata": {
    "collapsed": false
   },
   "outputs": [],
   "source": []
  },
  {
   "cell_type": "code",
   "execution_count": null,
   "metadata": {
    "collapsed": false
   },
   "outputs": [],
   "source": []
  },
  {
   "cell_type": "code",
   "execution_count": null,
   "metadata": {
    "collapsed": false
   },
   "outputs": [],
   "source": []
  },
  {
   "cell_type": "code",
   "execution_count": null,
   "metadata": {
    "collapsed": false
   },
   "outputs": [],
   "source": []
  },
  {
   "cell_type": "code",
   "execution_count": null,
   "metadata": {
    "collapsed": false
   },
   "outputs": [],
   "source": []
  },
  {
   "cell_type": "code",
   "execution_count": null,
   "metadata": {
    "collapsed": false
   },
   "outputs": [],
   "source": []
  },
  {
   "cell_type": "code",
   "execution_count": null,
   "metadata": {
    "collapsed": false
   },
   "outputs": [],
   "source": []
  },
  {
   "cell_type": "code",
   "execution_count": null,
   "metadata": {
    "collapsed": true
   },
   "outputs": [],
   "source": [
    "# timing plots\n",
    "# training error plots\n",
    "# classification error- on holdout set\n",
    "\n",
    "# frank wolfe stuff"
   ]
  }
 ],
 "metadata": {
  "anaconda-cloud": {},
  "kernelspec": {
   "display_name": "Python [default]",
   "language": "python",
   "name": "python3"
  },
  "language_info": {
   "codemirror_mode": {
    "name": "ipython",
    "version": 3
   },
   "file_extension": ".py",
   "mimetype": "text/x-python",
   "name": "python",
   "nbconvert_exporter": "python",
   "pygments_lexer": "ipython3",
   "version": "3.5.2"
  }
 },
 "nbformat": 4,
 "nbformat_minor": 0
}
